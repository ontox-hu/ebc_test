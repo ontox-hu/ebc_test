{
 "cells": [
  {
   "cell_type": "markdown",
   "id": "8f1feb07-9990-47a0-bc7e-202dc9dfbb68",
   "metadata": {},
   "source": [
    "# Testing EBC"
   ]
  },
  {
   "cell_type": "code",
   "execution_count": 1,
   "id": "7f46d981-9cba-4fb7-9e21-ab57fd6ef555",
   "metadata": {},
   "outputs": [
    {
     "name": "stderr",
     "output_type": "stream",
     "text": [
      "2023-06-05 14:01:59 larss-air.wifi.hu.nl metapub.config[67623] WARNING NCBI_API_KEY was not set.\n"
     ]
    }
   ],
   "source": [
    "import numpy\n",
    "import os\n",
    "import json\n",
    "from os.path import abspath\n",
    "from pathlib import Path\n",
    "from wasabi import Printer\n",
    "from metapub import PubMedFetcher\n",
    "from dotenv import load_dotenv\n",
    "from tqdm import tqdm\n",
    "from tenacity import (\n",
    "    retry,\n",
    "    stop_after_attempt,\n",
    "    wait_random_exponential,\n",
    ")  # for exponential backoff"
   ]
  },
  {
   "cell_type": "code",
   "execution_count": 2,
   "id": "3f41f2bf-d29e-482a-8076-c2d60eb9ff0e",
   "metadata": {},
   "outputs": [],
   "source": [
    "msg = Printer()"
   ]
  },
  {
   "cell_type": "code",
   "execution_count": 3,
   "id": "0e36027b-a1fb-4b89-9064-b619b84d22a9",
   "metadata": {},
   "outputs": [],
   "source": [
    "load_dotenv()\n",
    "os.environ['NCBI_API_KEY'] = os.getenv('NCBI_API_KEY')"
   ]
  },
  {
   "cell_type": "code",
   "execution_count": 4,
   "id": "ef748e50-c73a-4443-9f9a-1334264a4d79",
   "metadata": {},
   "outputs": [
    {
     "name": "stdout",
     "output_type": "stream",
     "text": [
      "\u001b[38;5;4mℹ home directory: /Users/lars/Documents/GitHub/ebc_test\u001b[0m\n"
     ]
    }
   ],
   "source": [
    "home_dir = Path(abspath(''))\n",
    "msg.info(f'home directory: {home_dir}')\n",
    "\n",
    "aop_wiki_parse_path = home_dir.joinpath('article_data/aop_wiki_references.jsonl')\n",
    "aop_wiki_abstracts_path = home_dir.joinpath('article_data/aop_wiki_abstracts.jsonl')"
   ]
  },
  {
   "cell_type": "markdown",
   "id": "19974262-7bac-4dd4-bd4b-f833e1575e6a",
   "metadata": {
    "tags": []
   },
   "source": [
    "## Get a test corpus\n",
    "for this test the abstracts from a parse of the AOP wiki is used"
   ]
  },
  {
   "cell_type": "code",
   "execution_count": 5,
   "id": "4478897d-e7c2-484c-a0d1-8d61cd5d419e",
   "metadata": {},
   "outputs": [],
   "source": [
    "# Load data\n",
    "aop_wiki_parse = []\n",
    "with aop_wiki_parse_path.open('r') as file:\n",
    "    for line in file:\n",
    "        aop_wiki_parse.append(json.loads(line))"
   ]
  },
  {
   "cell_type": "code",
   "execution_count": 6,
   "id": "4d6669ee-64e6-4643-8734-784f236a3c74",
   "metadata": {},
   "outputs": [],
   "source": [
    "fetch = PubMedFetcher()"
   ]
  },
  {
   "cell_type": "code",
   "execution_count": 7,
   "id": "78155a22-9f9f-4926-83b0-25d55c0ce1ac",
   "metadata": {},
   "outputs": [],
   "source": [
    "@retry(wait=wait_random_exponential(min=1, max=60), stop=stop_after_attempt(6))\n",
    "def fetch_with_backoff(**kwargs):\n",
    "    return fetch.article_by_pmid(**kwargs)"
   ]
  },
  {
   "cell_type": "code",
   "execution_count": 11,
   "id": "21cdd28a-de8c-449b-81a5-0f55cf188752",
   "metadata": {
    "tags": []
   },
   "outputs": [
    {
     "name": "stderr",
     "output_type": "stream",
     "text": [
      "100%|██████████| 159/159 [1:33:19<00:00, 35.22s/it]   \n"
     ]
    }
   ],
   "source": [
    "# Retrieving abstracts from NCBI\n",
    "aop_wiki_abstracts = []\n",
    "for doc in tqdm(aop_wiki_parse):\n",
    "    pmids = doc['pmids']\n",
    "    articles = [fetch_with_backoff(pmid=pmid) for pmid in pmids if pmid != None]\n",
    "\n",
    "    # Store data\n",
    "    for pmid, article in zip(pmids, articles):\n",
    "\n",
    "        \n",
    "        aop_wiki_abstracts.append({\n",
    "            'pmid':pmid,\n",
    "            'title':article.title,\n",
    "            'abstract':article.abstract,\n",
    "            'aop_wiki_id':doc['id'],\n",
    "            'aop_title':doc['title']\n",
    "        })"
   ]
  },
  {
   "cell_type": "code",
   "execution_count": 14,
   "id": "b3d79c93-2467-4d40-8f3a-f5ece5e6b3ad",
   "metadata": {
    "tags": []
   },
   "outputs": [],
   "source": [
    "# Save results\n",
    "with aop_wiki_abstracts_path.open('w') as file:\n",
    "    for doc in aop_wiki_abstracts:\n",
    "        json.dump(doc, file)\n",
    "        file.write('\\n')\n"
   ]
  },
  {
   "cell_type": "markdown",
   "id": "50d414df-0630-44f5-9f84-fa5646f3f822",
   "metadata": {},
   "source": [
    "## Get Named Entities"
   ]
  },
  {
   "cell_type": "markdown",
   "id": "f3e669df-a6bf-4901-b889-fc098c66c5a6",
   "metadata": {
    "tags": []
   },
   "source": [
    "## Get shortest dependecy path between Entities"
   ]
  },
  {
   "cell_type": "code",
   "execution_count": null,
   "id": "8179d2c4-8eb4-48a1-b62f-86e9a0d4e67a",
   "metadata": {},
   "outputs": [],
   "source": []
  },
  {
   "cell_type": "markdown",
   "id": "a3aeaf1c-bab7-4595-baa0-40c66511739f",
   "metadata": {
    "tags": []
   },
   "source": [
    "## Create sparse matrix"
   ]
  },
  {
   "cell_type": "markdown",
   "id": "64f1a814-33f3-410c-a1f4-9b9597bfcc1e",
   "metadata": {
    "tags": []
   },
   "source": [
    "## Run EBC"
   ]
  },
  {
   "cell_type": "markdown",
   "id": "5ef60b03-64e6-43a5-b6fb-f28b36c518d0",
   "metadata": {},
   "source": [
    "## Analyse results"
   ]
  },
  {
   "cell_type": "code",
   "execution_count": null,
   "id": "f343fa06-3007-4e37-84af-f245f5d3b44b",
   "metadata": {},
   "outputs": [],
   "source": []
  }
 ],
 "metadata": {
  "kernelspec": {
   "display_name": "Python 3 (ipykernel)",
   "language": "python",
   "name": "python3"
  },
  "language_info": {
   "codemirror_mode": {
    "name": "ipython",
    "version": 3
   },
   "file_extension": ".py",
   "mimetype": "text/x-python",
   "name": "python",
   "nbconvert_exporter": "python",
   "pygments_lexer": "ipython3",
   "version": "3.10.9"
  }
 },
 "nbformat": 4,
 "nbformat_minor": 5
}
