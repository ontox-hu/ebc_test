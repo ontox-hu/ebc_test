{
 "cells": [
  {
   "cell_type": "markdown",
   "id": "8f1feb07-9990-47a0-bc7e-202dc9dfbb68",
   "metadata": {},
   "source": [
    "# Testing EBC"
   ]
  },
  {
   "cell_type": "code",
   "execution_count": 32,
   "id": "7f46d981-9cba-4fb7-9e21-ab57fd6ef555",
   "metadata": {},
   "outputs": [],
   "source": [
    "import numpy\n",
    "import os\n",
    "import json\n",
    "import itertools\n",
    "import pandas as pd\n",
    "from os.path import abspath\n",
    "from pathlib import Path\n",
    "from wasabi import Printer\n",
    "from tqdm import tqdm\n",
    "import spacy\n",
    "from dotenv import load_dotenv\n",
    "from ebc2d import EBC2D\n",
    "import ebc2d\n",
    "from collections import defaultdict"
   ]
  },
  {
   "cell_type": "code",
   "execution_count": 2,
   "id": "3f41f2bf-d29e-482a-8076-c2d60eb9ff0e",
   "metadata": {},
   "outputs": [],
   "source": [
    "msg = Printer()"
   ]
  },
  {
   "cell_type": "code",
   "execution_count": 3,
   "id": "ef748e50-c73a-4443-9f9a-1334264a4d79",
   "metadata": {},
   "outputs": [
    {
     "name": "stdout",
     "output_type": "stream",
     "text": [
      "\u001b[38;5;4mℹ home directory: /Users/lars/Documents/GitHub/ebc_test\u001b[0m\n"
     ]
    }
   ],
   "source": [
    "home_dir = Path(abspath(''))\n",
    "msg.info(f'home directory: {home_dir}')\n",
    "\n",
    "aop_wiki_abstracts_path = home_dir.joinpath('article_data/aop_wiki_abstracts.jsonl')"
   ]
  },
  {
   "cell_type": "markdown",
   "id": "7a1a5b75-d58d-4b57-90fb-e6f2776055d0",
   "metadata": {},
   "source": [
    "## Load data"
   ]
  },
  {
   "cell_type": "code",
   "execution_count": 4,
   "id": "37297fb5-3024-41d8-8370-f76c2d1a26cb",
   "metadata": {
    "tags": []
   },
   "outputs": [],
   "source": [
    "aop_wiki_abstracts = []\n",
    "with aop_wiki_abstracts_path.open('r') as file:\n",
    "    for line in file:\n",
    "        aop_wiki_abstracts.append(json.loads(line))"
   ]
  },
  {
   "cell_type": "markdown",
   "id": "f3e669df-a6bf-4901-b889-fc098c66c5a6",
   "metadata": {
    "tags": []
   },
   "source": [
    "## Get shortest dependecy path between Entities"
   ]
  },
  {
   "cell_type": "code",
   "execution_count": 5,
   "id": "627a0c7d-98d9-4b68-ba60-8d9cd979d68b",
   "metadata": {},
   "outputs": [],
   "source": [
    "def get_shortest_dependency_path(ent1, ent2):\n",
    "    \n",
    "    def go_up_tree(token):\n",
    "        path=[token.text, token.dep_]\n",
    "        if token == token.head:\n",
    "            # print(0, token, token.head)\n",
    "            return [token.text]\n",
    "        else:\n",
    "            # print(1, path, token.head)\n",
    "            return path+go_up_tree(token.head)\n",
    "        \n",
    "    path1 = go_up_tree(ent1.root)\n",
    "    path2 = go_up_tree(ent2.root)\n",
    "    \n",
    "    return path1 + path2[:-1][::-1]"
   ]
  },
  {
   "cell_type": "code",
   "execution_count": 6,
   "id": "8179d2c4-8eb4-48a1-b62f-86e9a0d4e67a",
   "metadata": {
    "tags": []
   },
   "outputs": [
    {
     "name": "stderr",
     "output_type": "stream",
     "text": [
      "100%|██████████| 4945/4945 [04:48<00:00, 17.12it/s]\n"
     ]
    }
   ],
   "source": [
    "# Load model for ner and dependency parsing\n",
    "nlp = spacy.load('en_tox')\n",
    "\n",
    "# Run generator pipeline\n",
    "docs = nlp.pipe([doc['abstract'] for doc in aop_wiki_abstracts if type(doc['abstract'])==str])\n",
    "pmids = [doc['pmid'] for doc in aop_wiki_abstracts if type(doc['abstract'])==str]\n",
    "ent_labels_of_interest = ('PHENOTYPE', 'COMPOUND')\n",
    "\n",
    "# This dictionary will hold the data that will be transformed into a dataframe\n",
    "data_dict = {\n",
    "    'entity A':[],\n",
    "    'entity B':[],\n",
    "    'label A':[],\n",
    "    'label B':[],\n",
    "    'shortest dep path':[],\n",
    "    'sentence':[],\n",
    "    'sentence id':[],\n",
    "    'pmid':[],\n",
    "    'entity A root':[],\n",
    "    'entity B root':[]\n",
    "}\n",
    "\n",
    "sentence_id = 0\n",
    "for doc, pmid in tqdm(zip(docs,pmids), total=len(pmids)):\n",
    "    for sent in doc.sents:\n",
    "        \n",
    "        # Is there a molecule and a phenotype in the sentence\n",
    "        if not set(ent_labels_of_interest).issubset(set([ent.label_ for ent in sent.ents])):\n",
    "            continue\n",
    "\n",
    "        # get the shortest dependency path of all combinations of molecule and phenotype\n",
    "        ents_of_interest = [ent for ent in sent.ents if ent.label_ in ent_labels_of_interest]\n",
    "        mirrors = []\n",
    "        for ent1, ent2 in itertools.product(ents_of_interest, ents_of_interest):\n",
    "            \n",
    "            ### Skips\n",
    "            if ent1 == ent2: # skip if ent1 is the same as ent2\n",
    "                continue\n",
    "                \n",
    "            if ent1.label == ent2.label: #skip if labels are the same\n",
    "                continue\n",
    "                \n",
    "            if (ent1, ent2) in mirrors: #SKIP mirrors (ent1+ent2 vs ent2+ent1)\n",
    "                continue\n",
    "            \n",
    "            # Store mirrors\n",
    "            mirrors.append((ent2, ent1))\n",
    "            \n",
    "            # get dependency path\n",
    "            shortest_dep_path = get_shortest_dependency_path(ent1, ent2) # Get shortest dependecy path\n",
    "            ent1_root = shortest_dep_path.pop(0)\n",
    "            ent2_root = shortest_dep_path.pop(-1)\n",
    "            \n",
    "            ### Save data \n",
    "            data_dict['entity A'].append(ent1.text)\n",
    "            data_dict['entity B'].append(ent2.text)\n",
    "            data_dict['label A'].append(ent1.label_)\n",
    "            data_dict['label B'].append(ent2.label_)\n",
    "            data_dict['shortest dep path'].append(str(shortest_dep_path))\n",
    "            data_dict['sentence'].append(sent.text)\n",
    "            data_dict['sentence id'].append(sentence_id)\n",
    "            data_dict['pmid'].append(pmid)\n",
    "            data_dict['entity A root'].append(ent1_root)\n",
    "            data_dict['entity B root'].append(ent2_root)\n",
    "        \n",
    "        # Increment sentence id\n",
    "        sentence_id = sentence_id + 1"
   ]
  },
  {
   "cell_type": "markdown",
   "id": "8eb9890e-e5ae-42e5-beb1-db01269686d7",
   "metadata": {},
   "source": [
    "##### Small analysis of dependency paths"
   ]
  },
  {
   "cell_type": "code",
   "execution_count": 7,
   "id": "fc268ced-979e-4fcb-a148-ee973975f6f2",
   "metadata": {
    "tags": []
   },
   "outputs": [
    {
     "name": "stdout",
     "output_type": "stream",
     "text": [
      "sentences in which at least one molecule name and at least one phenotype are present 5118\n",
      "total number of unique molecule-phenotype-sentence combinations 11208\n",
      "total number of unique dependency paths (not accounting for mirrors): 9533\n"
     ]
    }
   ],
   "source": [
    "print('sentences in which at least one molecule name and at least one phenotype are present', len(set(data_dict['sentence id'])))\n",
    "print('total number of unique molecule-phenotype-sentence combinations', len(set([(entityA, entityB, sentence_id) for entityA, entityB, sentence_id in zip(data_dict['entity A'], data_dict['entity B'], data_dict['sentence id'])])))\n",
    "print('total number of unique dependency paths (not accounting for mirrors):', len(set(data_dict['shortest dep path'])))"
   ]
  },
  {
   "cell_type": "code",
   "execution_count": 8,
   "id": "96231d96-e1d0-4262-b339-4872bdb9911c",
   "metadata": {
    "tags": []
   },
   "outputs": [
    {
     "data": {
      "text/html": [
       "<div>\n",
       "<style scoped>\n",
       "    .dataframe tbody tr th:only-of-type {\n",
       "        vertical-align: middle;\n",
       "    }\n",
       "\n",
       "    .dataframe tbody tr th {\n",
       "        vertical-align: top;\n",
       "    }\n",
       "\n",
       "    .dataframe thead th {\n",
       "        text-align: right;\n",
       "    }\n",
       "</style>\n",
       "<table border=\"1\" class=\"dataframe\">\n",
       "  <thead>\n",
       "    <tr style=\"text-align: right;\">\n",
       "      <th></th>\n",
       "      <th>entity A</th>\n",
       "      <th>entity B</th>\n",
       "      <th>label A</th>\n",
       "      <th>label B</th>\n",
       "      <th>shortest dep path</th>\n",
       "      <th>sentence</th>\n",
       "      <th>sentence id</th>\n",
       "      <th>pmid</th>\n",
       "      <th>entity A root</th>\n",
       "      <th>entity B root</th>\n",
       "    </tr>\n",
       "  </thead>\n",
       "  <tbody>\n",
       "    <tr>\n",
       "      <th>0</th>\n",
       "      <td>dioxane</td>\n",
       "      <td>mortality</td>\n",
       "      <td>COMPOUND</td>\n",
       "      <td>PHENOTYPE</td>\n",
       "      <td>['nmod', 'effect', 'nmod', 'interest', 'nmod',...</td>\n",
       "      <td>As a result of recent interest in the carcinog...</td>\n",
       "      <td>0</td>\n",
       "      <td>None</td>\n",
       "      <td>dioxane</td>\n",
       "      <td>mortality</td>\n",
       "    </tr>\n",
       "    <tr>\n",
       "      <th>1</th>\n",
       "      <td>Vildagliptin</td>\n",
       "      <td>motor performance</td>\n",
       "      <td>COMPOUND</td>\n",
       "      <td>PHENOTYPE</td>\n",
       "      <td>['nsubj', 'improved', 'dobj']</td>\n",
       "      <td>Vildagliptin markedly improved the motor perfo...</td>\n",
       "      <td>1</td>\n",
       "      <td>25752913</td>\n",
       "      <td>Vildagliptin</td>\n",
       "      <td>performance</td>\n",
       "    </tr>\n",
       "    <tr>\n",
       "      <th>2</th>\n",
       "      <td>Vildagliptin</td>\n",
       "      <td>reduction in striatal dopamine content</td>\n",
       "      <td>COMPOUND</td>\n",
       "      <td>PHENOTYPE</td>\n",
       "      <td>['nsubj', 'improved', 'dep', 'effects', 'acl:r...</td>\n",
       "      <td>Vildagliptin markedly improved the motor perfo...</td>\n",
       "      <td>1</td>\n",
       "      <td>25752913</td>\n",
       "      <td>Vildagliptin</td>\n",
       "      <td>reduction</td>\n",
       "    </tr>\n",
       "    <tr>\n",
       "      <th>3</th>\n",
       "      <td>advanced glycated end product</td>\n",
       "      <td>vildagliptin</td>\n",
       "      <td>PHENOTYPE</td>\n",
       "      <td>COMPOUND</td>\n",
       "      <td>['nmod', 'Normalization', 'nsubj', 'finding', ...</td>\n",
       "      <td>Normalization of receptor for advanced glycate...</td>\n",
       "      <td>2</td>\n",
       "      <td>25752913</td>\n",
       "      <td>product</td>\n",
       "      <td>vildagliptin</td>\n",
       "    </tr>\n",
       "    <tr>\n",
       "      <th>4</th>\n",
       "      <td>vildagliptin</td>\n",
       "      <td>intracellular adhesion molecule-1</td>\n",
       "      <td>COMPOUND</td>\n",
       "      <td>PHENOTYPE</td>\n",
       "      <td>['nmod', 'effects', 'dobj', 'justifies', 'acl:...</td>\n",
       "      <td>Normalization of receptor for advanced glycate...</td>\n",
       "      <td>2</td>\n",
       "      <td>25752913</td>\n",
       "      <td>vildagliptin</td>\n",
       "      <td>molecule-1</td>\n",
       "    </tr>\n",
       "  </tbody>\n",
       "</table>\n",
       "</div>"
      ],
      "text/plain": [
       "                        entity A                                entity B  \\\n",
       "0                        dioxane                               mortality   \n",
       "1                   Vildagliptin                       motor performance   \n",
       "2                   Vildagliptin  reduction in striatal dopamine content   \n",
       "3  advanced glycated end product                            vildagliptin   \n",
       "4                   vildagliptin       intracellular adhesion molecule-1   \n",
       "\n",
       "     label A    label B                                  shortest dep path  \\\n",
       "0   COMPOUND  PHENOTYPE  ['nmod', 'effect', 'nmod', 'interest', 'nmod',...   \n",
       "1   COMPOUND  PHENOTYPE                      ['nsubj', 'improved', 'dobj']   \n",
       "2   COMPOUND  PHENOTYPE  ['nsubj', 'improved', 'dep', 'effects', 'acl:r...   \n",
       "3  PHENOTYPE   COMPOUND  ['nmod', 'Normalization', 'nsubj', 'finding', ...   \n",
       "4   COMPOUND  PHENOTYPE  ['nmod', 'effects', 'dobj', 'justifies', 'acl:...   \n",
       "\n",
       "                                            sentence  sentence id      pmid  \\\n",
       "0  As a result of recent interest in the carcinog...            0      None   \n",
       "1  Vildagliptin markedly improved the motor perfo...            1  25752913   \n",
       "2  Vildagliptin markedly improved the motor perfo...            1  25752913   \n",
       "3  Normalization of receptor for advanced glycate...            2  25752913   \n",
       "4  Normalization of receptor for advanced glycate...            2  25752913   \n",
       "\n",
       "  entity A root entity B root  \n",
       "0       dioxane     mortality  \n",
       "1  Vildagliptin   performance  \n",
       "2  Vildagliptin     reduction  \n",
       "3       product  vildagliptin  \n",
       "4  vildagliptin    molecule-1  "
      ]
     },
     "execution_count": 8,
     "metadata": {},
     "output_type": "execute_result"
    }
   ],
   "source": [
    "df = pd.DataFrame.from_dict(data_dict)\n",
    "df.head()"
   ]
  },
  {
   "cell_type": "markdown",
   "id": "a3aeaf1c-bab7-4595-baa0-40c66511739f",
   "metadata": {
    "tags": []
   },
   "source": [
    "## Create sparse matrix"
   ]
  },
  {
   "cell_type": "code",
   "execution_count": 37,
   "id": "6aed0979-9d61-4452-8879-1668e5630246",
   "metadata": {},
   "outputs": [],
   "source": [
    "### This is a snippit of the code from 'ebc2d.py' from the function 'get_matrix_from_data()', line 288\n",
    "### This snippit creates a entity pair to row number and dep path to column number\n",
    "### And thus is essential to finding out which entity pairs cluster together\n",
    "### I don't know why this isn't part of the output of get_matrix_from_data\n",
    "\n",
    "def get_feature_ids(data):\n",
    "    feature_ids = defaultdict(lambda: defaultdict(int))\n",
    "    for d in data:\n",
    "        location = []\n",
    "        for i in range(len(d) - 1):\n",
    "            f_i = d[i]\n",
    "            if f_i not in feature_ids[i]:\n",
    "                feature_ids[i][f_i] = len(feature_ids[i])  # new index is size of dict\n",
    "            location.append(feature_ids[i][f_i])\n",
    "    return feature_ids"
   ]
  },
  {
   "cell_type": "code",
   "execution_count": 38,
   "id": "61727dd7-f16b-48b7-9420-16ed2868153e",
   "metadata": {},
   "outputs": [],
   "source": [
    "data = [\n",
    "    [(ent1.lower(),ent2.lower()), dep_path, 1.0] \n",
    "    for ent1, ent2, dep_path \n",
    "    in zip(data_dict['entity A'], data_dict['entity B'], data_dict['shortest dep path'])\n",
    "]\n",
    "feature_ids = get_feature_ids(data)\n",
    "matrix = ebc2d.get_matrix_from_data(data)"
   ]
  },
  {
   "cell_type": "markdown",
   "id": "64f1a814-33f3-410c-a1f4-9b9597bfcc1e",
   "metadata": {
    "tags": []
   },
   "source": [
    "## Run EBC"
   ]
  },
  {
   "cell_type": "code",
   "execution_count": 10,
   "id": "6fbc5ba1-1964-4229-9797-1cf056af3e92",
   "metadata": {},
   "outputs": [
    {
     "name": "stdout",
     "output_type": "stream",
     "text": [
      "Running EBC2D on a 2-d matrix with size (9245, 9533) ...\n",
      "Randomly initializing clusters, with cluster number on each axis: [30, 125] ...\n",
      "--> Running iteration 1 .. objective value = 5.774289\n",
      "--> Running iteration 2 .. objective value = 5.731714\n",
      "--> Running iteration 3 .. objective value = 5.734511\n",
      "EBC2D finished in 3 iterations, with final objective value 5.7345\n"
     ]
    }
   ],
   "source": [
    "row_clusters = 30\n",
    "column_clusters = 125\n",
    "ebc = EBC2D(matrix, n_clusters=[30, 125], max_iterations=10, jitter_max=1e-10, objective_tolerance=0.01)\n",
    "cXY, objective, it = ebc.run()"
   ]
  },
  {
   "cell_type": "markdown",
   "id": "5ef60b03-64e6-43a5-b6fb-f28b36c518d0",
   "metadata": {},
   "source": [
    "## Analyse results"
   ]
  },
  {
   "cell_type": "code",
   "execution_count": 47,
   "id": "23a15c37-a7c6-4bd9-a557-d2332825ec17",
   "metadata": {},
   "outputs": [],
   "source": [
    "### TEMP function (this can be way better but in the name of time)\n",
    "def associated_dep_path(search_entity_pair,data):\n",
    "    dep_paths = []\n",
    "\n",
    "    for entity_pair, dep_path, _  in data:\n",
    "        if entity_pair == search_entity_pair:\n",
    "            dep_paths.append(dep_path)\n",
    "\n",
    "    return dep_paths"
   ]
  },
  {
   "cell_type": "code",
   "execution_count": 88,
   "id": "f343fa06-3007-4e37-84af-f245f5d3b44b",
   "metadata": {},
   "outputs": [],
   "source": [
    "inverted_row_features = {value: key for key, value in feature_ids[0].items()}\n",
    "all_cluster_numbers=range(row_clusters)\n",
    "X = cXY[0]\n",
    "\n",
    "cluster_data = {}\n",
    "for current_cluster_number in all_cluster_numbers:\n",
    "    # get all row indicies of rows that are in a certain cluster\n",
    "    indicies = [index for index, cluster_number in enumerate(X) if cluster_number==current_cluster_number]\n",
    "    \n",
    "    # get all entity pairs that link to that row index\n",
    "    entity_pairs = [inverted_row_features[index] for index in indicies]\n",
    "    associated_dependency_paths = [associated_dep_path(entity_pair, data) for entity_pair in entity_pairs]\n",
    "    # print(set([len(i) for i in associated_dependency_paths]))\n",
    "    associated_dependency_paths = itertools.chain(*associated_dependency_paths)\n",
    "    # print(set([len(i) for i in associated_dependency_paths]))\n",
    "    associated_dependency_paths = [eval(i) for i in associated_dependency_paths]\n",
    "\n",
    "    cluster_data[current_cluster_number] = {\n",
    "        'entity_pairs':entity_pairs,\n",
    "        'dep_paths':associated_dependency_paths\n",
    "    }"
   ]
  },
  {
   "cell_type": "code",
   "execution_count": 91,
   "id": "2e05514b-1797-4cbc-90bc-acca68404643",
   "metadata": {
    "collapsed": true,
    "jupyter": {
     "outputs_hidden": true
    }
   },
   "outputs": [
    {
     "name": "stdout",
     "output_type": "stream",
     "text": [
      "\u001b[1m\n",
      "===================================== 0 =====================================\u001b[0m\n",
      "{'show': 7, 'nmod': 36, 'suggest': 1, 'acl': 5, 'related': 1, 'dobj': 17, 'neurons': 1, 'conj': 11, 'investigated': 3, 'Dnmts': 1, 'review': 2, 'nsubj': 26, 'advcl': 9, 'inhibited': 2, 'induces': 1, 'reduced': 1, 'increased': 3, 'similar': 1, 'suggests': 1, 'xcomp': 10, 'embryos': 4, 'damage': 2, 'abnormalities': 2, 'exposure': 4, 'doses': 3, 'organisms': 1, 'competition': 1, 'levels': 1, 'decreased': 2, 'fed': 1, 'ccomp': 13, 'mitochondria': 2, 'induce': 2, 'rats': 2, 'known': 2, 'cause': 3, 'mechanism': 2, 'used': 3, 'associated': 1, 'potential': 1, 'nsubjpass': 5, 'developed': 1, 'Studies': 1, 'investigate': 2, '=': 1, 'comparing': 1, 'compared': 2, 'demonstrates': 1, 'prevent': 1, 'acl:relcl': 2, 'contains': 1, 'required': 1, 'antibody': 2, 'mediate': 2, 'Carbaryl': 1, 'knockdown': 1, 'characterized': 1, 'identifies': 1, 'hypothesis': 1, 'dep': 2, 'support': 2, 'binds': 1, 'CONCLUSIONS': 3, 'proved': 1, 'effects': 2, 'spectrum': 1, 'generated': 1, 'database': 1, 'remain': 1, 'had': 1, 'inflation': 4, 'expression': 2, 'parataxis': 1, 'followed': 1, 'fell': 1, 'susceptible': 2, 'motivated': 2, 'decreases': 2, 'stress': 1, 'agents': 2, 'patients': 1, 'demonstrated': 3, 'allows': 1, 'Inhibition': 1, 'activation': 1, 'remission': 1, 'chosen': 1, 'histopathogenesis': 2, 'was': 2, 'prevents': 2, 'risks': 1, 'analyzed': 2, 'rich': 1, 'appears': 1, 'involves': 1, 'suggesting': 1, 'offering': 1, 'causes': 1, 'growth': 1, 'increase': 1, 'signals': 1, 'observed': 1, 'genes': 2, 'changes': 1, 'described': 1, 'ability': 1, 'enhances': 1, 'provide': 1, 'implications': 1, 'blocked': 1, 'release': 1, 'suppressed': 1}\n",
      "\u001b[1m\n",
      "===================================== 1 =====================================\u001b[0m\n",
      "{'species': 1, 'nsubj': 21, 'dep': 7, 'xcomp': 10, 'caused': 2, 'order': 1, 'lead': 1, 'demonstrated': 2, 'nmod': 42, 'stimulus': 1, 'ccomp': 15, 'nsubjpass': 4, 'parataxis': 1, 'dobj': 26, 'induced': 2, 'increased': 3, 'showed': 1, 'chemicals': 1, 'presence': 1, 'impede': 1, 'conj': 10, 'dose': 1, 'increase': 2, 'advcl': 11, 'greater': 1, 'investigated': 5, 'susceptible': 1, 'Inhibitors': 1, 'indicating': 1, 'developed': 3, \"3,3',4,4\": 1, 'involved': 1, 'reduction': 1, 'acl': 12, 'weeks': 2, 'protected': 1, 'effective': 2, 'hypothesized': 1, 'quantities': 1, 'concentrations': 1, 'promote': 3, 'model': 1, 'group': 1, 'screening': 1, 'expression': 1, 'reduces': 2, 'related': 1, 'assay': 1, 'promoted': 1, 'hepatomegaly': 1, 'MOA': 1, 'underscore': 2, 'demonstrates': 1, 'summarize': 1, 'shown': 5, 'production': 3, '±': 1, 'predominated': 1, 'indicate': 1, 'injected': 1, 'attenuation': 1, 'relaxation': 1, 'uncoupling': 1, 'chemiluminescence': 1, 'endpoints': 1, 'localized': 1, 'show': 1, 'gavage': 1, 'Females': 4, 'employed': 1, 'evaluate': 1, 'exposed': 1, 'perform': 2, 'examination': 2, 'quantification': 2, 'causes': 1, 'determine': 1, 'acl:relcl': 1, 'peroxidation': 1, 'roles': 1, 'initiate': 1, 'discussed': 1, 'block': 4, 'responsible': 1, 'effect': 1, 'treated': 1, 'necessary': 1, 'examined': 1, 'turpentine': 1, 'have': 1, 'inhibited': 3, 'suggest': 3, 'iron': 3, 'target': 2, 'treatment': 2, 'retinol': 1, 'retina': 1, 'produce': 1, 'incorporation': 1, 'demonstrate': 1, 'administrations': 1, 'rats': 1, 'alters': 1, 'evaluates': 1, 'uncertain': 1, 'dispensable': 1, 'resulted': 2, 'suppression': 1, 'potential': 1, 'depletion': 1, 'suggesting': 2, 'change': 1}\n",
      "\u001b[1m\n",
      "===================================== 2 =====================================\u001b[0m\n",
      "{'provide': 1, 'inhibited': 3, 'block': 1, 'grouped': 1, 'indicate': 4, 'examined': 2, 'conj': 15, 'observed': 1, 'indicated': 1, 'ccomp': 26, 'xcomp': 10, 'alleviated': 1, 'related': 1, 'nmod': 52, 'Insight': 1, 'induce': 2, 'nsubj': 19, 'advcl': 18, 'FINDINGS': 2, 'dobj': 36, 'parataxis': 8, 'absence': 1, 'acl': 9, 'is': 3, 'has': 2, 'demonstrated': 3, 'caused': 2, 'deficits': 1, 'dep': 6, 'amod': 1, 'plays': 2, 'reaction': 1, 'affinity': 1, 'mRNA': 1, 'corresponded': 1, 'neurotoxin': 1, 'evaluate': 4, 'nsubjpass': 12, 'cop': 1, 'sensitive': 1, 'Treatment': 1, 'exposure': 2, 'investigated': 1, 'designed': 1, 'decrease': 2, 'form': 2, 'compared': 3, 'protection': 2, 'occurred': 1, 'Trout': 2, 'size': 1, 'dose': 1, 'TB': 1, 'mixture': 1, 'conversion': 2, 'derived': 1, 'representing': 1, 'frequency': 1, 'DEHP': 3, 'measured': 2, 'increases': 1, 'burdens': 1, 'showed': 3, 'found': 3, 'exhibited': 3, 'cytokines': 2, 'inhibits': 3, 'terms': 1, 'mechanism': 5, 'Amount': 1, 'stimulation': 1, 'macrophages': 1, 'generating': 1, 'affected': 2, 'ability': 6, 'agonists': 2, 'discussed': 1, 'appos': 6, 'activate': 3, 'led': 1, 'relevance': 1, 'drugs': 1, 'idea': 1, 'exposed': 1, 'cause': 3, 'characterized': 1, 'periods': 1, 'responses': 1, 'obtain': 1, 'changed': 1, 'mediated': 1, 'contribute': 2, 'associated': 1, 'combine': 1, 'factor': 2, 'seems': 1, 'different': 1, 'role': 1, 'reduced': 1, 'attr': 1, 'photocoagulation': 1, 'species': 2, 'damage': 1, 'leading': 1, 'correlated': 1, 'find': 3, 'sheep': 1, 'potential': 1, 'day': 1, 'regimen': 1, 'respectively': 2, 'animals': 1, 'stronger': 1, 'appears': 1, 'BACKGROUND': 1, 'acl:relcl': 4, 'datasets': 1, 'used': 1, 'obtained': 2, 'channels': 1, 'concluded': 2, 'Variations': 2, 'affecting': 1, 'examination': 2, 'reported': 1, 'surge': 1, 'binds': 1, 'colchicine': 1, 'procarcinogens': 1, 'viability': 1, 'acetylcysteine': 1, 'Me2SO': 1, 'depressing': 2, 'analysis': 1, 'perturb': 1, 'useful': 1, 'investigate': 3, 'dehydrogenase': 1, 'generation': 1, 'expression': 2, 'cancers': 1, 'selected': 1, 'show': 5, 'juveniles': 1, 'have': 1, 'photochemistry': 1, 'assay': 1, 'Agents': 1, 'support': 1, 'were': 2, 'assess': 2, 'threshold': 2, 'confirm': 2, 'Analyses': 2, 'induced': 3, 'detected': 1, 'propose': 1, 'attenuated': 1, 'conformed': 1, 'blocked': 1, 'evaluated': 1, 'abolished': 1, 'enabling': 1, 'result': 1, 'course': 1, 'concentrations': 1, 'thought': 1, 'susceptibility': 2, 'lower': 1, 'occur': 1, 'injection': 1, 'proposed': 1, 'influences': 1, 'situations': 1, 'describing': 1, 'evidence': 2, 'infertility': 1, 'exhibit': 2, 'suggested': 1}\n",
      "\u001b[1m\n",
      "===================================== 3 =====================================\u001b[0m\n",
      "{'ccomp': 26, 'evidence': 2, 'unknown': 1, 'impairment': 1, 'number': 2, 'dobj': 38, 'formation': 2, 'stimulated': 1, 'alleviated': 1, 'investigated': 6, 'cells': 5, 'nsubj': 30, 'nmod': 77, 'demonstrate': 1, 'alleviate': 1, 'nsubjpass': 11, 'dep': 6, 'test': 3, 'advcl': 10, 'mediated': 1, 'indicate': 1, 'receptors': 1, 'reprogram': 1, 'Exposure': 1, 'inhibition': 1, 'exposure': 3, 'showed': 5, 'shown': 1, 'disturbances': 1, 'MK-801': 1, 'scopolamine': 1, 'concentrations': 1, 'levels': 1, 'recognised': 1, 'observed': 5, 'reflect': 1, 'cultured': 1, 'include': 3, 'higher': 1, 'Pioglitazone': 1, 'Prolonged': 1, 'causes': 12, 'xcomp': 5, 'responses': 4, 'gradient': 1, 'explain': 2, 'activity': 2, 'Liver': 4, 'responsible': 2, 'parataxis': 4, 'predict': 1, 'imazalil': 1, '50': 1, 'caused': 3, 'reduction': 1, 'used': 1, 'reduce': 2, 'binding': 1, 'influence': 1, 'measured': 1, 'mobilized': 1, 'provides': 1, 'presents': 1, 'markers': 4, 'suggest': 4, 'conj': 20, 'factors': 1, 'attr': 1, 'consisted': 2, 'increased': 4, 'mouse': 2, 'causing': 5, 'perturbation': 2, 'occurred': 1, 'evaluated': 2, 'ammonium': 1, 'small': 1, 'analyses': 1, 'acl:relcl': 5, 'acl': 5, 'screening': 3, 'share': 1, 'unprecedented': 2, 'led': 1, 'activate': 2, 'one': 1, 'returned': 1, 'resulted': 2, 'plays': 1, 'gene': 1, 'lack': 1, 'compromised': 2, 'evaluate': 1, 'has': 2, 'reported': 4, 'chromosomes': 1, 'support': 1, 'administration': 3, 'mice': 3, 'lead': 1, 'conditions': 1, 'dependent': 1, 'present': 1, 'effect': 1, 'produce': 1, 'potentiated': 1, 'injury': 1, 'evident': 1, 'detectable': 1, 'inhibited': 1, 'accumulation': 1, 'injected': 1, 'relationship': 1, 'tachycardia': 1, 'evidenced': 1, 'express': 2, 'associated': 1, 'concurrent': 1, 'examples': 1, 'regulator': 1, 'One': 1, 'cause': 2, 'immunosuppression': 1, 'stimuli': 1, 'combined': 1, 'assessed': 2, 'found': 1, 'case': 1, 'induce': 1, 'chemicals': 2, 'farnesoate': 1, 'Etoposide': 1, 'study': 2, 'expression': 1, 'drug': 1, 'attenuated': 1, 'oxidation': 1, 'exhibited': 2, 'play': 2, 'role': 1, 'induces': 2, 'different': 1, 'pathogenesis': 1, 'promote': 2, 'mechanisms': 1, 'suggested': 1, 'improved': 1, 'steatosis': 1, 'blocked': 2, 'reduced': 2, 'stopped': 1, 'ability': 2, 'produced': 1, 'punct': 1, 'appeared': 2, 'fibroblasts': 2, 'treated': 2, 'DSBs': 2, 'history': 2, 'data': 1, 'appos': 2, 'protected': 1, 'identified': 1, 'serving': 1, 'rich': 1, 'Wnt3a': 1, 'suggests': 1, 'molecules': 1, 'volumes': 1, 'those': 1, 'offering': 1, 'view': 1, 'deficiency': 1, 'examined': 1, 'rise': 1, 'thought': 1, 'discovered': 1, 'identify': 1, 'urothelium': 2, 'spread': 1, 'reverse': 1, 'required': 1, 'prevents': 1, 'amod': 1, 'decreased': 1, 'prevent': 1, 'induction': 1, 'CONCLUSIONS': 1, 'modulating': 1, 'PPT': 1, 'included': 1, 'implicates': 1, 'show': 1, 'starting': 1, 'suppressed': 1}\n",
      "\u001b[1m\n",
      "===================================== 4 =====================================\u001b[0m\n",
      "{'nmod': 87, 'acl': 16, 'advcl': 30, 'nsubjpass': 27, 'conj': 36, 'sensitive': 2, 'death': 1, 'ccomp': 45, 'indicate': 7, 'block': 1, 'reduces': 1, 'observed': 3, 'appos': 1, 'nsubj': 64, 'investigated': 3, 'factor': 1, 'exerted': 1, 'suggest': 3, 'caused': 4, 'grafts': 1, 'medication': 1, 'assayed': 3, 'mechanisms': 3, 'protect': 1, 'regulates': 2, 'dobj': 55, 'supporting': 2, 'organisms': 2, 'chemistries': 1, 'pathway': 1, 'decreased': 5, 'Troglitazone': 1, 'investigate': 2, 'shift': 1, 'dep': 8, 'has': 1, 'had': 2, 'decrements': 1, 'affects': 1, 'Blockade': 1, 'scopolamine': 1, 'result': 2, 'sets': 1, 'distinguish': 1, 'shown': 5, 'coexposure': 1, 'supports': 1, 'Immunostaining': 1, 'xcomp': 14, 'rise': 2, 'level': 1, 'lead': 1, 'cop': 3, 'exhibited': 4, 'damage': 2, 'genes': 1, 'use': 1, 'impedes': 1, 'deficits': 2, 'causes': 2, 'one': 1, 'understand': 1, 'account': 2, 'providing': 4, 'treatment': 4, 'structures': 2, 'alter': 2, 'parataxis': 10, 'reduced': 7, 'present': 2, 'assumed': 2, 'diuron': 1, 'identified': 1, 'regulate': 1, 'seems': 1, 'increase': 5, 'given': 2, 'exposure': 2, 'metabolism': 1, 'required': 4, 'used': 3, 'role': 2, 'ameliorated': 2, 'accumulated': 1, 'injected': 2, 'necrosis': 2, 'found': 6, 'achieved': 1, 'enhance': 1, 'evaluated': 4, 'induced': 6, 'included': 1, 'known': 1, 'led': 1, 'cause': 1, 'revealed': 1, 'associated': 6, 'maximal': 1, 'BACKGROUND': 1, 'exposed': 1, 'challenged': 1, 'elevated': 1, 'resulted': 5, 'work': 1, 'recommended': 1, 'conditions': 1, 'reported': 2, 'Apomorphine': 3, 'test': 1, 'syndrome': 1, 'antagonizing': 1, 'chemicals': 1, 'children': 1, 'administration': 1, 'triiodothyronine': 1, 'increases': 2, 'recognized': 1, 'fed': 1, 'activity': 1, 'oocytes': 1, 'association': 1, 'mice': 1, 'increased': 5, 'studied': 1, 'method': 1, 'that': 2, 'treated': 3, 'examine': 1, 'amod': 2, 'uroporphyria': 1, 'triggered': 1, 'accumulation': 1, 'intake': 1, 'drug': 1, 'inhibitor': 3, 'become': 1, 'confirm': 1, 'have': 3, 'release': 1, 'peritonitis': 1, 'went': 1, 'provides': 1, 'suggesting': 2, 'tissue': 1, 'DESIGN': 1, 'participation': 1, 'enzymes': 1, 'response': 2, 'acl:relcl': 3, 'precontracted': 1, 'prevented': 2, 'aminoguanidine': 1, 'Akt': 1, 'vasorelaxation': 1, 'attenuated': 1, 'placed': 1, 'described': 1, 'uncouples': 1, 'range': 1, 'showed': 4, 'mortality': 1, 'affected': 1, 'outside': 1, 'RESULTS': 1, 'ability': 2, 'hydrocarbons': 1, 'hyperactive': 1, 'require': 1, 'comparing': 1, 'advmod': 1, 'changed': 1, 'inhibited': 4, 'iodophenol': 1, 'inhibits': 2, 'identifying': 1, 'presentation': 1, 'application': 1, 'decrease': 2, 'FK506': 2, 'inhibit': 1, 'antibiotic': 1, 'distinguished': 1, 'stimulation': 1, 'examined': 2, 'suppresses': 2, 'six': 1, 'lungs': 1, 'model': 1, 'expression': 1, 'demonstrate': 3, 'determined': 1, '±': 1, 'amiodarone': 1, 'drugs': 1, 'rats': 1, 'include': 1, 'plays': 1, 'interact': 2, 'analysis': 1, 'correlated': 1, 'kinetics': 1, 'incorporation': 1, 'followed': 1, 'related': 1, 'nephrotoxicity': 1, 'disrupts': 1, 'link': 2, 'Blocking': 1, 'cytotoxicity': 1, 'protected': 1, 'testing': 1, 'effect': 2, 'Endosulfan': 1, 'hydroxylation': 1, 'hypothesis': 2, 'implicated': 3, 'cells': 2, 'demonstrates': 2, 'mediates': 2, 'likely': 2, 'incubated': 2, 'suppressed': 2, 'potent': 2, 'attempt': 2, 'repair': 1, 'playing': 1, 'preceded': 1, 'form': 1, 'show': 1, 'affect': 2, 'remain': 1, 'Combined': 1, 'induces': 1, 'insight': 1, 'deficiency': 1, 'compared': 1, 'stimulated': 2, 'perfusion': 1, 'encompasses': 1, '1250ppm': 1, 'MOA': 1, 'impact': 1, 'diethylaminobenzaldehyde': 1, 'exposures': 1, 'intoxication': 2, 'exhibit': 1, 'altered': 1, 'performs': 1, 'combination': 1, 'influence': 2, 'restores': 1, 'highlights': 1, 'embryos': 1, 'perturbed': 1, 'documented': 1, 'activities': 1, 'impairment': 1, 'attr': 1, 'days': 1, 'suggests': 1, 'neurons': 1}\n",
      "\u001b[1m\n",
      "===================================== 5 =====================================\u001b[0m\n",
      "{'nmod': 65, 'advcl': 15, 'ccomp': 31, 'conj': 26, 'acl': 11, 'assayed': 1, 'property': 1, 'xcomp': 17, 'dobj': 27, 'cycling': 1, 'concentrations': 1, 'summarize': 1, 'nsubj': 28, 'level': 1, 'participates': 1, 'groups': 1, 'investigated': 2, 'reduce': 1, 'examined': 6, 'yield': 1, 'increases': 1, 'resulted': 3, 'using': 2, '13': 1, 'results': 5, 'Inhibitors': 1, 'exposed': 2, 'imazalil': 2, 'acl:relcl': 3, 'varied': 1, 'MOAs': 10, 'damage': 1, 'suggesting': 1, 'model': 2, 'ameliorated': 2, 'levels': 3, 'parataxis': 7, 'apoptotic': 1, 'consequence': 1, 'performed': 4, 'nsubjpass': 12, 'associated': 5, 'elicits': 1, 'provoked': 1, 'exposure': 2, 'increased': 1, 'observed': 3, 'possible': 1, 'numbers': 1, 'dep': 3, 'flow': 1, 'pups': 1, 'appos': 7, 'include': 2, 'expression': 1, 'cause': 2, 'accelerated': 1, 'mimicked': 1, 'influence': 1, 'Subjects': 1, 'recommended': 2, 'appears': 2, 'discussed': 1, 'inducers': 2, 'caused': 3, 'stages': 1, 'administrated': 1, 'demonstrates': 1, 'dysfunction': 1, 'conclude': 1, 'help': 1, 'studied': 1, 'potentiates': 1, 'showed': 1, 'is': 1, 'hepatocytes': 3, 'accumulation': 3, 'amod': 1, 'blocked': 1, 'inhibited': 1, 'pathways': 1, 'epithelium': 1, 'induced': 1, 'preserved': 1, 'maintaining': 1, 'used': 3, 'suggest': 1, 'shown': 1, 'diminished': 1, 'causing': 2, 'disease': 1, 'provided': 1, 'considered': 1, 'RESULTS': 1, 'stronger': 1, 'CONCLUSION': 1, 'macrolide': 1, 'Cotreatment': 5, 'had': 2, 'combined': 1, 'provide': 1, 'inhibition': 1, 'exerted': 1, 'indicated': 1, 'tested': 1, 'reactivity': 1, 'mechanism': 1, 'assessed': 2, '=': 2, 'cytotoxicity': 4, 'attr': 2, 'induction': 2, 'detected': 1, 'mice': 1, 'binds': 1, 'rates': 1, 'agents': 1, 'cells': 1, 'agonist': 2, 'cessation': 1, 'NRTI': 1, 'contribute': 1, 'exposures': 1, 'promoted': 1, 'abolished': 1, 'increase': 1, 'demonstrated': 1, 'receptors': 1, 'testing': 1, 'management': 1, 'illustrate': 1, 'number': 1, 'available': 1, 'irradiation': 2, 'relationship': 2, 'inhibitors': 2, 'addition': 2, 'pronounced': 2, 'adenocarcinomas': 2, 'rats': 2, 'developed': 2, 'MCF10A': 2, 'uterus': 1, 'Exposure': 1, 'force': 1, 'known': 1, 'effect': 1, 'proliferation': 2, 'therapy': 1, 'synthesis': 1, 'reprogramming': 1, 'transition': 1, 'stimulated': 2, 'intact': 1, 'produced': 1, 'camostat': 1, 'remains': 1, 'found': 1, 'find': 1, 'brains': 1, 'effects': 1, 'limits': 1, 'dose': 1, 'augmented': 1, 'evidenced': 1, 'administration': 1, 'initiates': 1, 'changed': 1, 'impairment': 2, 'alcohol': 1, 'LTED': 1, 'leading': 1, 'examine': 1}\n",
      "\u001b[1m\n",
      "===================================== 6 =====================================\u001b[0m\n",
      "{'guarded': 1, 'caused': 2, 'nsubjpass': 3, 'damage': 1, 'advcl': 10, 'xcomp': 6, 'dep': 1, 'nsubj': 13, 'stress': 1, 'supporting': 1, 'mediated': 2, 'parataxis': 3, 'nmod': 36, 'able': 2, 'investigated': 2, 'produced': 1, 'conj': 15, 'expected': 1, 'inhibited': 2, 'acl': 10, 'disruption': 1, 'dobj': 17, 'explore': 1, 'indicating': 1, 'used': 6, 'abolished': 1, 'suggest': 3, 'found': 2, 'cause': 1, 'suppressed': 1, 'DEHP': 1, 'thought': 1, 'ccomp': 7, 'exposure': 4, 'hepatotoxicity': 1, 'pathway': 2, 'acl:relcl': 2, 'show': 1, 'Subjects': 1, 'period': 1, 'Using': 1, 'elongation': 1, 'resulted': 1, 'available': 2, 'overcame': 1, 'developed': 1, 'conclude': 1, \"2,2',5,5'-tetrachlorobiphenyl\": 1, 'quail': 1, 'mice': 1, 'intake': 1, 'elicited': 3, 'Pretreatment': 1, 'attenuated': 1, 'codes': 1, 'expression': 1, 'result': 1, 'observed': 2, 'T4': 1, 'receive': 1, 'treatment': 1, 'frequent': 1, 'reported': 1, 'antagonist': 1, 'potent': 1, 'induce': 1, 'examined': 1, 'elevated': 1, 'release': 1, 'inhibit': 2, 'appos': 2, 'head': 1, 'apoptosis': 1, 'potential': 1, 'emerge': 1, 'promote': 2, 'discussed': 2, 'ability': 1, 'led': 1, 'levels': 2, 'products': 3, 'prevented': 1, 'cross': 1, 'antioxidants': 1, 'animals': 2, 'sulfoximine': 2, 'suppresses': 2, 'preceded': 1, 'had': 1, 'reduced': 1, 'induces': 1, 'offering': 1, 'Cholecystokinin': 1, 'visualization': 1, 'support': 1, 'induced': 1, 'nucleotide': 1, 'framework': 1, 'higher': 1, 'effects': 1, 'develop': 1, 'response': 1, 'aberrations': 1, 'augmented': 1, 'revealed': 1}\n",
      "\u001b[1m\n",
      "===================================== 7 =====================================\u001b[0m\n",
      "{'implicated': 1, 'nsubj': 27, 'sensitive': 1, 'advcl': 13, 'inhibited': 1, 'differ': 1, 'ccomp': 24, 'increasing': 1, 'block': 1, 'nmod': 50, 'xcomp': 2, 'inhibitors': 1, 'unaffected': 1, 'number': 1, 'sufficient': 1, 'system': 1, 'contribute': 1, 'dobj': 32, 'underlying': 1, 'assessed': 1, 'acl': 2, 'triggering': 2, 'suggested': 1, 'review': 1, 'acl:relcl': 8, 'parataxis': 4, 'blockers': 1, 'triggered': 1, 'nsubjpass': 7, 'play': 1, 'Indicators': 1, 'mice': 1, 'cop': 1, 'is': 1, 'nonenzymic': 1, 'product': 1, 'improves': 2, 'demasculinize': 1, '12': 2, 'structures': 2, 'depressed': 3, 'minnows': 3, 'conj': 23, 'course': 1, 'induced': 2, 'damage': 1, 'increased': 2, 'rats': 3, 'magnitude': 1, 'evidences': 2, 'dep': 11, 'demonstrate': 2, 'monitoring': 1, 'clarify': 1, 'exposure': 1, 'included': 1, 'insights': 1, 'stimulation': 1, 'C': 1, 'strategy': 2, 'undertaken': 1, 'explanation': 1, 'cells': 2, 'adjusting': 1, 'response': 1, 'dibenzodioxins': 1, 'associated': 1, 'shown': 2, 'suggest': 3, 'appos': 5, 'affect': 1, 'show': 2, 'study': 2, 'considered': 1, 'increases': 2, 'showed': 1, 'mechanism': 1, 'disease': 1, 'produce': 1, 'was': 1, 'progresses': 1, 'DNA': 1, 'amod': 1, 'Using': 1, 'epithelium': 1, 'treatment': 1, 'express': 1, 'suggests': 1, 'exposed': 1, 'mediated': 2, 'inhibit': 4, 'causing': 1, 'secretion': 1, 'hepatocytes': 1, 'participants': 1, 'PCB-153': 1, 'correlated': 1, 'activity': 1, 'immunized': 1, 'effect': 1, 'immunosuppressants': 1, 'affected': 2, 'potential': 1, 'exerted': 1, 'model': 1, 'role': 1, 'blocked': 1, 'investigate': 1, 'concentrations': 1, 'methoprene': 1, 'use': 1, 'follows': 2, 'safety': 1, 'evidence': 2, 'supported': 1, 'challenged': 1, 'establish': 1, 'prevented': 1, 'substrates': 1, 'tested': 1, 'conjugates': 1, 'products': 3, 'Inhibition': 1, 'ranging': 1, 'elevated': 1, 'modify': 2, 'years': 1, 'patients': 2, 'acts': 1, 'indicate': 5, 'prep': 2, 'modifications': 2, 'demonstrated': 3, 'confirm': 2, 'influenced': 2, 'produced': 1, 'observed': 1, 'enhanced': 1, 'suppresses': 1, 'derived': 1, 'led': 1, 'reprogramming': 1, 'promoted': 1, 'leading': 1, 'enabled': 1, 'compared': 1, 'intermediary': 1, 'encompasses': 2, 'carcinomas': 1, 'aid': 1, 'embryo': 1, 'revealed': 1, 'groups': 1, 'presence': 1, 'essential': 1, 'used': 1, 'reduced': 1, 'prevent': 1, 'mediate': 1, 'excess': 2, 'plays': 2, 'stimulate': 1, 'adjuvant': 1, 'indicated': 1, 'remains': 1, 'link': 1, 'sensitized': 1, 'aimed': 2, 'stems': 1, 'providing': 1, 'loss': 1}\n",
      "\u001b[1m\n",
      "===================================== 8 =====================================\u001b[0m\n",
      "{'acl:relcl': 13, 'toxic': 1, 'cultures': 1, 'cause': 1, 'dobj': 43, 'found': 2, 'ccomp': 34, 'suggest': 2, 'designed': 2, 'prevented': 7, 'induced': 25, 'conj': 25, 'grouped': 1, 'nmod': 70, 'become': 1, 'xcomp': 13, 'inhibited': 2, 'order': 1, 'demonstrated': 2, 'decrease': 3, 'receptors': 2, 'advcl': 19, 'levels': 2, 'had': 2, 'acl': 13, 'nsubj': 25, 'indicating': 2, 'Ca(2': 1, 'shown': 5, 'vulnerable': 1, 'changes': 1, 'remains': 1, 'inhibition': 6, 'leading': 1, 'recognised': 1, 'caused': 4, 'level': 1, 'is': 2, 'nsubjpass': 17, 'effects': 5, 'investigated': 3, 'dep': 9, 'range': 1, 'associations': 1, 'index': 1, 'combination': 3, 'determine': 1, 'identify': 1, 'analyzed': 1, 'revealed': 3, 'fish': 3, 'simulate': 2, 'occurred': 2, 'gave': 3, 'appos': 8, 'increased': 3, 'assess': 2, 'indicated': 1, 'produced': 4, 'evaluate': 1, 'evidence': 1, 'Intervention': 1, 'carvedilol': 2, 'protected': 1, 'mechanisms': 2, 'elucidate': 2, 'ethanol': 2, 'fibrosis': 1, 'restoring': 1, 'factor': 1, 'activated': 1, 'appears': 1, 'stimulation': 1, 'role': 1, 'alleviate': 1, 'generates': 2, 'pathways': 1, 'consumption': 2, 'mediated': 1, 'demonstrate': 1, 'contribute': 2, 'showed': 3, 'implicated': 2, 'suggesting': 2, 'elimination': 1, 'investigate': 1, 'reactions': 1, 'relationship': 1, 'resulted': 1, 'agonists': 1, 'study': 2, 'observed': 1, 'diet': 1, '0': 2, 'survival': 2, 'mutagenic': 1, 'compounds': 1, 'reduced': 2, 'assessed': 1, 'administration': 1, 'KCC2': 1, 'receptor': 1, 'exposure': 1, 'hyperinnervation': 1, 'reduces': 1, 'identified': 1, 'plasticity': 1, 'detectable': 1, 'evoked': 1, 'effect': 1, 'examined': 2, 'parataxis': 9, 'allows': 3, 'available': 2, 'established': 1, 'hypothesis': 3, 'confined': 2, 'linked': 1, 'effort': 1, 'examine': 1, 'quinoxaline': 1, 'demonstrates': 1, 'suppressed': 3, 'addition': 1, 'higher': 1, 'eliminated': 1, 'CONCLUSIONS': 1, 'used': 2, 'evidenced': 1, 'amod': 1, 'induction': 3, 'demonstrating': 1, 'number': 2, 'competed': 1, 'interfere': 1, 'provided': 1, 'rats': 1, 'None': 1, 'proved': 1, 'respectively': 1, 'BACKGROUND': 1, 'mechanism': 4, 'inhibit': 1, 'antibiotic': 1, 'broken': 1, 'treatment': 1, 'influence': 1, 'exerted': 1, 'associated': 1, 'Depletion': 1, 'indicative': 2, 'observation': 1, 'perturbation': 2, 'included': 4, 'factors': 1, 'attenuated': 1, 'possibility': 1, 'inflammation': 1, 'promotes': 5, 'Administration': 1, 'Pretreatment': 1, 'acceleration': 1, 'accompanied': 1, 'activation': 2, 'studied': 2, 'acetylcysteine': 1, 'effectors': 2, 'causes': 2, 'responsible': 1, 'shows': 1, 'Using': 1, 'modifies': 1, 'elevated': 1, 'blocked': 1, 'testing': 1, 'has': 1, 'antimicrobials': 1, 'actions': 1, 'considered': 3, 'decreased': 4, 'proliferation': 2, 'produces': 6, 'likely': 2, 'modifications': 2, 'suggested': 1, 'treating': 2, 'dependent': 1, 'upregulation': 1, 'activate': 1, 'advmod': 1, 'initiates': 1, 'alter': 1, 'indicate': 1, 'binding': 1, 'necrosis': 1, 'loss': 1, 'discussed': 1, 'complex': 1, 'facilitates': 1, 'assigned': 1, 'deficiency': 1, 'innervation': 1, 'treatments': 1, 'evident': 2, 'events': 2, 'topics': 1, 'lead': 2, 'Reduction': 1, 'producing': 1, 'explored': 1, 'low': 1, 'OBJECTIVE': 1, 'defined': 2, 'changed': 1, 'modified': 1, 'depletion': 1, 'efficacy': 2, 'authors': 1, 'exposures': 1, 'hypothesized': 1}\n",
      "\u001b[1m\n",
      "===================================== 9 =====================================\u001b[0m\n",
      "{'acl:relcl': 5, 'nmod': 70, 'delve': 1, 'dobj': 52, 'induces': 4, 'caused': 9, 'dep': 10, 'ccomp': 55, 'compatible': 1, 'serve': 1, 'block': 1, 'enhanced': 2, 'advcl': 27, 'nsubjpass': 23, 'increased': 7, 'administration': 1, 'acl': 12, 'protected': 1, 'acomp': 1, 'using': 1, 'attenuated': 4, 'used': 3, 'demonstrating': 2, 'parataxis': 7, 'demonstrate': 2, 'expressions': 2, 'reviewed': 1, 'alleviate': 1, 'suppress': 1, 'delayed': 1, 'had': 3, 'screen': 1, 'provided': 3, 'CONCLUSIONS': 2, 'Animals': 1, 'analyzed': 1, 'antagonists': 1, 'revealed': 1, 'initiating': 1, 'resulted': 1, 'indicating': 1, 'nsubj': 39, 'conj': 31, 'shown': 5, 'accompanied': 1, 'tested': 2, 'glutamate': 1, 'mRNA': 1, 'chemicals': 1, 'xcomp': 13, 'is': 1, 'examined': 2, 'impact': 1, 'reported': 1, 'greater': 1, 'compete': 1, 'decrease': 2, 'agonists': 1, 'relation': 2, 'was': 2, 'treatment': 1, 'determine': 2, 'showed': 3, 'U46619': 1, 'appeared': 1, 'incidence': 2, 'short': 1, 'stimulated': 1, 'evidence': 5, 'fish': 3, 'modulating': 2, 'chlorfenvinphos': 1, 'females': 1, 'varied': 1, 'RESULTS': 3, 'Models': 1, 'understand': 1, 'investigated': 3, 'internalization': 1, 'implicated': 3, 'known': 1, 'degree': 2, 'Clofibrate': 1, 'related': 1, 'number': 2, 'injury': 2, 'production': 3, 'cytokines': 2, 'necrosis': 1, 'evaluated': 2, 'designed': 1, 'developed': 1, 'cause': 1, 'lead': 2, 'accumulated': 1, 'belonging': 1, 'incubations': 1, 'precipitate': 4, 'appos': 3, 'provide': 2, 'results': 1, 'inhibition': 3, 'ability': 2, 'administered': 2, 'demonstrated': 1, 'findings': 1, 'EROD': 1, 'reviews': 1, 'increase': 1, 'diet': 1, 'risk': 2, 'TPO': 2, 'rats': 3, 'include': 3, 'exerted': 1, 'dams': 1, 'lack': 1, 'GABAergic': 1, 'consequence': 1, 'reduction': 1, 'observed': 3, 'fed': 1, 'support': 1, 'injection': 1, 'action': 1, 'responsible': 2, 'similar': 1, 'induction': 1, 'demonstrates': 1, 'considered': 1, 'Decreases': 4, 'affecting': 1, 'symptoms': 1, 'response': 1, 'mediates': 1, 'exists': 1, 'principally': 1, 'exposed': 3, 'amod': 2, 'accumulation': 1, 'pretreatment': 1, 'show': 2, 'inhibited': 1, 'higher': 1, 'Pretreatment': 1, 'effects': 2, 'toxin': 1, 'destruction': 1, 'Coadministration': 1, 'assessed': 1, 'normalization': 1, 'Akt': 2, 'application': 2, 'rescued': 1, 'indicated': 1, 'mediated': 1, 'impaired': 1, 'play': 1, 'affected': 1, 'sac': 1, 'determined': 2, 'cooperated': 1, 'cytotoxicity': 1, 'damage': 1, 'compounds': 1, 'absence': 1, 'those': 1, 'expression': 2, 'mechanism': 1, 'suggest': 2, 'exposure': 4, 'elucidate': 1, 'prevented': 2, 'that': 1, 'diseases': 1, 'followed': 2, 'develop': 2, 'described': 2, 'exacerbate': 1, 'mechanisms': 1, 'suggesting': 2, 'agents': 1, 'summarize': 1, 'metabolism': 1, 'protection': 1, 'levels': 1, 'liver': 1, 'maintained': 4, 'studied': 1, 'suggested': 2, 'NRTI': 1, 'review': 1, 'undergo': 1, 'preincubation': 1, 'investigate': 2, 'restores': 1, 'Using': 1, 'days': 1, 'treated': 1, 'grown': 1, 'antigen': 1, 'necessary': 1, 'addition': 1, 'ratio': 1, 'reduced': 1, 'punct': 1, 'degradation': 1, 'Agents': 1, 'inducer': 2, 'exhibit': 3, 'implantation': 2, 'elicited': 2, 'Cells': 2, 'iron': 4, 'produces': 2, 'reduces': 2, 'suppressing': 2, 'involve': 2, 'have': 1, 'uterus': 1, 'kind': 1, 'concluded': 1, 'discusses': 1, 'G': 1, 'Inhibition': 1, 'measured': 1, 'display': 1, 'balance': 1, 'knocking': 1, 'Wnt3a': 1, 'enabled': 1, 'enhance': 1, 'diuron-': 1, 'chemical': 1, 'extend': 1, 'presumed': 1, 'antibiotics': 1, 'required': 1, 'catalyzing': 1, 'indicate': 1, 'leads': 2, 'examines': 1, 'compared': 1, 'advances': 1, 'model': 1, 'deployment': 1, 'suppressed': 1, 'critical': 1, 'concentrations': 1, 'mean': 1, 'defined': 1, 'found': 1, 'Accumulation': 1, 'impairment': 1, 'correlation': 1, 'induced': 1, 'implications': 1, 'toxicity': 1, 'DFP': 1, 'children': 1, 'activity': 1, 'trigger': 1, 'hypothesized': 1}\n",
      "\u001b[1m\n",
      "===================================== 10 =====================================\u001b[0m\n",
      "{'model': 1, 'acl': 7, 'loss': 1, 'block': 1, 'dobj': 21, 'demonstrated': 2, 'ability': 2, 'induced': 4, 'nsubj': 29, 'potential': 1, 'damage': 2, 'advcl': 13, 'activity': 1, 'shown': 4, 'nmod': 50, 'conj': 18, 'fibrates': 1, 'species': 1, 'used': 1, 'insensitive': 1, 'amod': 1, 'mixture': 1, 'ccomp': 21, 'propose': 2, 'degeneration': 1, 'acl:relcl': 6, 'triggered': 1, 'consistent': 1, 'enhance': 1, 'suggests': 2, 'increase': 1, 'reduced': 1, 'hypothesis': 2, 'inhibited': 2, 'effect': 2, 'participate': 1, 'formation': 1, 'improves': 1, 'result': 2, 'treatment': 1, 'failure': 1, 'changes': 1, 'UDCA': 1, 'nsubjpass': 2, 'mitochondria': 2, 'identify': 1, 'inhibitor': 4, 'mediated': 2, 'view': 1, 'potentiation': 1, 'appearance': 2, 'determined': 4, 'parataxis': 8, 'presence': 1, 'differences': 1, 'detected': 1, 'examined': 2, 'cytokines': 1, 'relationship': 1, 'depend': 1, 'observed': 2, 'reported': 1, 'hypothesized': 1, 'cause': 1, 'evidence': 1, 'dep': 3, 'obtained': 1, 'xcomp': 4, 'revealed': 2, 'is': 1, 'produce': 4, 'deserve': 1, 'study': 1, 'using': 1, 'measure': 1, 'available': 2, 'delay': 1, 'hepatocytes': 1, 'pathway': 1, \"2,2',5,5'-tetrachlorobiphenyl\": 1, 'demonstrating': 1, 'caused': 3, 'evident': 1, 'induce': 2, 'apoptosis': 1, 'increased': 2, 'Conditions': 1, 'Pretreatment': 1, 'Bronchiolitis': 1, 'effects': 1, 'indicate': 2, 'having': 1, 'assessed': 1, 'increases': 1, 'attr': 1, 'spectrum': 1, 'represented': 1, 'exposure': 1, 'enables': 1, 'compared': 2, 'inhibit': 1, 'A': 1, 'review': 1, 'BACKGROUND': 1, 'disruption': 4, 'overexpression': 1, 'appos': 1, 'described': 1, 'response': 2, 'extend': 1, 'expression': 1, 'Exposure': 1, 'induces': 1, 'influenced': 1, 'mechanisms': 2, 'dissect': 1, 'dysfunction': 1, 'neurotoxicants': 1, 'showed': 1, 'involves': 1, 'correlation': 1, 'causing': 1, 'reveal': 2, 'injected': 1, 'indicated': 1, 'levels': 1, 'assessment': 1, 'Testes': 1, 'seen': 2, 'number': 1, 'tend': 1, 'electrophiles': 1, 'critical': 1, 'discussed': 1, 'developed': 1, 'incorporation': 1, 'rats': 1, 'delayed': 1, 'exists': 1, 'advances': 1, 'suggested': 1, 'doses': 2, 'improved': 1, '1254': 2, 'pesticides': 1, 'elucidate': 2, 'disturbed': 1, 'disbalance': 1, 'resistance': 1, 'linked': 1, 'production': 1, 'promote': 2, 'impairment': 1, 'DFP': 2}\n",
      "\u001b[1m\n",
      "===================================== 11 =====================================\u001b[0m\n",
      "{'nmod': 11, 'acl': 1, 'mode': 1, 'ccomp': 5, 'dep': 1, 'followed': 1, 'advcl': 2, 'compared': 3, 'conj': 2, 'synthesis': 1, 'resolve': 1, 'thought': 1, 'indicate': 1, 'xcomp': 1, 'prevents': 1, 'parataxis': 1, 'suggested': 1, 'evidence': 1}\n",
      "\u001b[1m\n",
      "===================================== 12 =====================================\u001b[0m\n",
      "{'induces': 12, 'caused': 20, 'levels': 1, 'inhibited': 6, 'dobj': 3, 'accumulated': 1, 'designed': 1, 'nmod': 3, 'mechanism': 1, 'present': 1, 'clear': 1, 'nsubj': 1, 'went': 1, 'ccomp': 1, 'appos': 1, 'BACKGROUND': 2}\n",
      "\u001b[1m\n",
      "===================================== 13 =====================================\u001b[0m\n",
      "{'provide': 1, 'dobj': 18, 'expression': 2, 'show': 3, 'nmod': 19, 'appos': 5, 'nsubj': 20, 'cause': 2, 'acl': 2, 'influences': 1, 'mechanisms': 3, 'suggested': 1, 'conj': 9, 'xcomp': 8, 'directed': 2, 'include': 1, 'remain': 1, 'similar': 1, 'ccomp': 17, 'role': 1, 'suggesting': 3, 'demonstrate': 1, 'stimulated': 1, 'induced': 1, 'compounds': 1, 'aimed': 2, 'radicals': 1, 'elucidate': 2, 'utilizing': 2, 'dep': 5, 'plays': 1, 'variability': 1, 'ascertain': 1, 'nsubjpass': 5, 'METHODS': 1, 'dibenzodioxins': 1, 'part': 4, 'study': 1, 'parataxis': 2, 'consistent': 2, 'unknown': 2, 'defects': 1, 'resulted': 1, 'advcl': 2, 'examined': 1, 'uroporphyria': 1, 'exposed': 5, 'protect': 3, 'equipotent': 1, 'induce': 1, 'pretreatment': 1, 'induction': 1, 'embryo': 1, 'investigate': 2, 'taking': 1, 'is': 1, 'fed': 2, 'reduced': 2, 'altered': 1, 'treating': 1, 'acl:relcl': 3, 'antibiotic': 1, 'shown': 2, 'inhibition': 1, 'exposure': 1, 'critical': 6, 'prevents': 1, 'ability': 1, 'undergo': 1, 'effects': 1, 'increase': 1, 'analysed': 2, 'modified': 1, 'failed': 1, 'target': 1, 'modifications': 2, 'produced': 1, 'revealed': 2, 'apoptosis': 1, 'discussed': 1, 'suggests': 1, 'define': 1, 'output': 1, 'produce': 1, 'result': 1, 'citrate': 1, 'address': 2, 'enzyme': 1, 'established': 1}\n",
      "\u001b[1m\n",
      "===================================== 14 =====================================\u001b[0m\n",
      "{'result': 1, 'nsubj': 36, 'reduced': 4, 'advcl': 15, 'blocks': 1, 'has': 1, 'nmod': 45, 'acl': 4, 'show': 2, 'dobj': 33, 'observed': 1, 'levels': 1, 'expression': 1, 'appear': 1, 'ccomp': 19, 'cause': 2, 'examine': 1, 'reported': 1, 'administration': 1, 'reactivate': 1, 'conj': 13, 'Immunostaining': 1, 'effect': 1, 'is': 1, 'seems': 1, 'collected': 1, 'changes': 1, 'dep': 3, 'used': 3, 'exposed': 1, 'appeared': 1, 'coincided': 1, 'nsubjpass': 9, 'similar': 2, 'xcomp': 7, \"3,3',4,4\": 1, 'chlorpyrifos': 2, 'staining': 1, 'test': 5, 'indicated': 1, 'parataxis': 2, 'combination': 1, 'hypothesized': 1, 'induced': 13, 'measured': 1, 'protection': 1, 'toxic': 1, 'Adding': 1, 'binding': 2, 'effects': 1, 'implicated': 2, 'RESULTS': 2, 'acl:relcl': 2, 'nominated': 5, 'stimulate': 1, 'line': 1, 'doses': 1, '0': 1, 'suggest': 4, 'exposure': 3, 'lack': 1, 'disrupt': 1, 'csubj': 1, 'reduction': 3, 'tested': 1, 'increased': 5, 'ability': 2, 'occurred': 1, 'lowered': 1, 'activities': 1, 'become': 1, 'increases': 1, 'inhibits': 3, 'hours': 1, 'destruction': 2, 'leads': 1, 'showed': 2, 'advmod': 1, 'vasoconstriction': 1, 'shown': 1, 'eyes': 1, 'hydrocarbons': 1, 'succinate': 1, 'thyroid': 1, 'investigate': 1, 'combustion': 1, 'findings': 2, 'inhibit': 1, 'evoked': 1, 'offset': 4, 'parallel': 4, 'exerted': 1, 'elevated': 1, 'confirmed': 1, 'channels': 1, 'appos': 2, 'differ': 2, '%': 1, 'abolished': 1, 'model': 1, 'are': 1, 'assess': 1, 'support': 2, 'believe': 1, 'stress': 2, 'inflammation': 1, 'contribute': 1, 'blocked': 1, 'decreased': 3, 'emerged': 1, 'incorporation': 1, 'pathways': 1, 'oxidant': 1, 'Inhibition': 1, 'prevented': 1, 'lines': 1, 'yielded': 1, 'maintained': 1, 'effective': 1, 'evaluate': 1, 'approved': 1, 'presented': 1, 'risk': 1, 'growth': 2, 'often': 2, 'pathology': 1, 'number': 2, 'preponderance': 1, 'amod': 1, 'DEAB': 1, 'Exposure': 1, 'analyzed': 1, 'compared': 1, 'investigated': 1, 'Vagotomy': 1, 'CCK': 1, 'hypothesis': 1, 'membranes': 1, '17β': 1, 'necessary': 1, 'exists': 1, 'inhibited': 1, 'induces': 1, 'understood': 1, 'depletion': 1, 'people': 1, 'hippocampus': 1, 'led': 1}\n",
      "\u001b[1m\n",
      "===================================== 15 =====================================\u001b[0m\n",
      "{'nmod': 41, 'advcl': 14, 'show': 4, 'demonstrating': 2, 'bradykinesia': 1, 'ccomp': 32, 'conj': 22, 'increased': 5, 'block': 1, 'reports': 1, 'inhibited': 15, 'dobj': 24, 'Insight': 1, 'nsubj': 23, 'occur': 1, 'protected': 1, 'Inhibition': 2, 'effect': 1, 'suppressing': 1, 'FINDINGS': 2, 'enrichment': 2, 'offers': 1, 'nsubjpass': 9, 'uncovered': 1, 'facilitates': 1, 'extent': 1, 'neuroprotection': 1, 'discuss': 1, 'acl': 4, 'acl:relcl': 4, 'enhances': 1, 'contribute': 1, 'studies': 1, 'xcomp': 7, 'DiBP': 1, 'use': 2, 'ventricle': 2, 'treatment': 5, 'effects': 4, 'reduced': 4, 'chlorobenzilate': 1, 'providing': 1, 'livers': 1, 'PFIC': 1, 'days': 1, 'formation': 1, 'had': 4, 'overlap': 1, 'established': 1, 'induced': 2, 'apparent': 1, 'suppressed': 5, 'concomitant': 1, 'included': 1, 'caused': 2, 'antioxidant': 1, 'evaluated': 2, 'indicate': 1, 'parataxis': 2, 'resulted': 1, 'acted': 1, 'unprecedented': 2, 'include': 1, 'directed': 1, 'reducing': 1, 'causes': 1, 'prolonged': 1, 'production': 1, 'renin': 1, 'produce': 1, 'inhibit': 4, 'confined': 1, 'protective': 1, 'implied': 1, 'provided': 1, 'presence': 1, 'Expression': 1, 'hyperplasia': 1, 'transmission': 1, 'hypertension': 2, 'unaltered': 1, 'binding': 1, 'decreases': 1, 'modes': 1, 'contrast': 1, 'appos': 2, 'provide': 1, '%': 1, 'induces': 2, 'possessed': 2, 'blockers': 1, 'produced': 2, 'emerge': 1, 'plays': 2, 'prevents': 1, 'increase': 1, 'cancers': 1, 'concentrations': 2, 'cause': 1, 'complicated': 1, 'detected': 1, 'shown': 1, 'importance': 1, 'CONCLUSION': 1, 'target': 1, 'dep': 3, 'indicating': 1, 'participate': 1, 'suggesting': 1, 'weeks': 1, 'impacts': 1, 'addressed': 1, 'impairs': 1, 'cells': 2, 'assayed': 2, 'obtained': 2, 'received': 2, 'mediated': 1, 'epithelium': 1, 'Treatment': 1, 'reduction': 1, 'demonstrated': 1, 'RESULTS': 1, 'BACKGROUND': 1, 'Infusion': 1, 'help': 1, 'affect': 1, 'disease': 1, 'sweating': 2, 'demonstration': 1, 'efficacy': 1, 'promote': 2, 'overexpressed': 1, 'leads': 1}\n",
      "\u001b[1m\n",
      "===================================== 16 =====================================\u001b[0m\n",
      "{'xcomp': 4, 'suggest': 2, 'provide': 1, 'plays': 1, 'conj': 8, 'nsubj': 17, 'investigate': 2, 'caused': 3, 'led': 1, 'node': 1, 'test': 1, 'dep': 3, 'supports': 1, 'nsubjpass': 3, 'ability': 1, 'followed': 1, 'ccomp': 15, 'nmod': 28, 'pivotal': 1, 'dobj': 22, 'acts': 1, 'susceptible': 1, 'advcl': 15, 'response': 2, 'decreased': 2, 'evaluate': 2, 'inhibited': 2, 'unchanged': 1, 'sufficient': 1, 'pathologies': 1, 'deformities': 1, 'dioxins': 1, 'concentration': 2, 'linked': 2, 'induces': 2, 'A': 1, 'provided': 2, 'ranged': 1, 'mice': 2, 'resulted': 4, 'increase': 2, 'ethanol': 2, 'parataxis': 4, 'initiating': 1, 'been': 2, 'INTERPRETATION': 2, 'generation': 1, 'likely': 1, 'comparable': 1, 'Tier': 1, 'reserpine': 3, 'MMI': 3, 'DPM': 3, 'conclude': 2, 'cause': 1, 'accelerated': 1, 'doses': 1, 'directed': 1, 'include': 1, 'mechanism': 1, 'deficits': 1, 'levels': 1, 'acl': 2, 'exposing': 1, 'amod': 2, 'csubj': 1, 'account': 2, 'leads': 1, 'principally': 1, 'found': 1, 'accumulation': 1, 'activation': 1, 'associated': 1, 'Taken': 1, 'displayed': 1, 'exhibited': 1, 'prevented': 1, 'treatment': 1, 'induced': 1, 'treated': 1, 'Aroclor-1254': 1, 'concentrations': 1, 'demonstrated': 4, 'ubiquitous': 1, 'drugs': 1, 'inhibitors': 1, 'immunomodulator': 1, 'RESULTS': 1, 'damage': 1, 'measurements': 1, 'open': 1, 'reduced': 1, 'affected': 1, 'acquired': 1, 'trend': 1, 'analysis': 1, 'considered': 1, 'features': 3, 'indicating': 1, 'testing': 2, 'causing': 1, 'undergoes': 2, 'role': 1, 'Treatment': 1, 'find': 1, 'initiates': 1, 'enhance': 1, 'compared': 2, 'stimulated': 1, 'direction': 1, 'extend': 1, 'disrupts': 1, 'days': 1, 'Exposure': 1, 'sourcing': 1, 'signs': 2, 'change': 1, 'interfere': 2, 'CONCLUSIONS': 1, 'provides': 1, 'mimic': 1, 'two': 1, 'phase': 1, ',': 1, 'trigger': 1}\n",
      "\u001b[1m\n",
      "===================================== 17 =====================================\u001b[0m\n",
      "{'show': 5, 'derivatives': 4, 'ccomp': 32, 'provide': 1, 'advcl': 21, 'loss': 1, 'determined': 1, 'nmod': 87, 'dobj': 51, 'search': 1, 'detected': 3, 'prevents': 1, 'induced': 2, 'nsubj': 43, 'acl': 11, 'evidenced': 1, 'investigated': 3, 'pretreatment': 1, 'failed': 1, 'appos': 10, 'suggest': 4, 'prep': 2, 'affecting': 1, 'triggered': 1, 'nsubjpass': 14, 'recognized': 1, 'found': 2, 'possibility': 1, 'resulted': 6, 'Ca(2': 1, 'conj': 24, 'xcomp': 13, 'produced': 1, 'determine': 2, 'lead': 1, 'signaling': 1, 'inactivated': 1, 'based': 1, 'investigate': 2, 'compound': 1, 'activity': 2, 'decreased': 4, 'damage': 1, 'use': 1, 'improves': 1, 'lethality': 1, 'is': 1, 'profile': 1, 'edema': 1, 'abolished': 4, 'size': 1, 'depressed': 3, 'indicating': 1, 'fold': 1, 'assay': 2, 'UDCA': 1, 'role': 2, 'inferior': 2, 'known': 1, 'dep': 8, 'fed': 1, 'agents': 2, 'liver': 2, 'METHODS': 2, 'parataxis': 6, 'formulation': 1, 'developed': 1, 'stimulation': 1, 'promote': 1, 'induction': 1, 'highlights': 1, 'precursors': 1, 'exposure': 5, 'dibenzodioxins': 1, '2b': 1, 'explain': 2, 'continue': 1, 'serum': 1, 'diet': 1, 'enzyme': 1, 'dependent': 2, 'conditions': 1, 'prolongation': 1, 'drugs': 1, 'deficits': 2, 'rats': 1, 'reserpine': 3, 'responded': 1, 'inhibitors': 1, 'administration': 1, 'litters': 1, 'Subjects': 1, 'RESULTS': 1, 'amod': 2, 'raised': 2, 'protect': 2, 'concentrations': 4, 'Using': 4, 'idea': 1, 'interpreted': 1, 'indicate': 5, 'suppressed': 1, 'correlated': 2, 'studies': 1, 'acetochlor': 6, 'levels': 1, 'course': 1, 'triglycerides': 1, 'response': 1, 'occurred': 2, 'potentiated': 1, 'drinking': 1, 'detect': 1, 'caused': 1, 'demonstrated': 5, 'effect': 2, 'suggesting': 1, 'shown': 1, 'presence': 1, 'increases': 1, 'increased': 4, 'improved': 3, 'vasoconstriction': 1, 'blocking': 1, 'confirmed': 1, 'measured': 1, 'waveforms': 1, 'used': 1, 'aimed': 1, 'studied': 1, 'injected': 1, 'are': 1, 'acl:relcl': 3, 'generated': 2, 'involved': 1, 'components': 1, 'treated': 1, 'content': 1, 'PCDD': 1, 'result': 2, 'regimens': 1, 'proved': 1, 'inhibited': 2, 'Increases': 1, 'indicates': 1, 'evidence': 1, 'demonstrate': 3, 'reduced': 2, 'mechanism': 1, 'bind': 1, 'Mice': 1, 'stimulate': 1, 'diacetyl': 1, 'activated': 1, 'open': 1, 'reproduction': 1, 'crustacean': 1, 'produces': 3, 'subset': 1, 'clear': 1, 'help': 1, 'represents': 1, 'accompanied': 1, 'induce': 2, 'play': 1, 'increase': 1, 'contribute': 3, 'biotransformation': 1, 'disruption': 1, 'regulated': 1, 'included': 1, 'describes': 1, 'correlation': 1, 'identified': 1, 'altered': 1, 'CONCLUSIONS': 2, 'recommended': 1, 'treat': 1, 'assessed': 1, 'was': 3, 'punct': 2, 'pharmaceutical': 2, 'inhibitions': 1, 'phenotypes': 2, 'ability': 2, 'regulates': 2, 'inhibition': 2, 'order': 3, 'likely': 2, 'population': 2, 'Liver': 2, 'thought': 2, 'pathologies': 1, 'EDC': 1, 'effects': 1, 'suggested': 2, 'propose': 1, 'derived': 1, 'associated': 1, 'dephosphorylated': 1, 'Vagotomy': 1, 'mediate': 1, 'CsA': 1, 'substances': 4, 'incidence': 1, 'results': 1, 'showed': 1, 'raises': 1, 'plays': 1, 'DNA': 1, 'treatment': 1, 'sensitive': 1, 'highlighted': 2, 'level': 1, 'impairs': 1, 'address': 2, 'Administration': 1, 'Consistent': 1, 'proteins': 1, 'inactivation': 1, 'reduction': 1, 'genotoxic': 1, 'impact': 1, 'change': 1, 'examined': 1, 'potential': 1, 'DFP': 1, 'brains': 1, 'efficacy': 1, 'L': 1}\n",
      "\u001b[1m\n",
      "===================================== 18 =====================================\u001b[0m\n",
      "{'nsubj': 99, 'revealed': 2, 'causes': 1, 'ccomp': 2, 'increased': 1, 'impair': 1, 'showed': 3, 'advcl': 2, 'nmod': 9, 'acl': 1, 'suggests': 1, 'xcomp': 5, 'has': 3, 'toxicants': 1, 'dobj': 7, 'acl:relcl': 1, 'prevalent': 1, 'analysis': 1, 'nsubjpass': 7, 'enhanced': 1, 'ability': 1, 'reported': 1, 'conj': 2, 'indicates': 1, 'associated': 1, 'Carbaryl': 1, 'knockdown': 1, 'characterized': 1, 'suggesting': 1, 'supplementation': 1, 'receive': 1, 'shown': 1, 'noted': 1, 'unknown': 1, 'inhibited': 2, 'induced': 1, 'providing': 1, 'studied': 1, 'binds': 1, 'parataxis': 1, 'one': 1, 'cellular': 1, 'applied': 1, 'miRNAs': 1, 'exosomes': 1, 'discontinued': 1}\n",
      "\u001b[1m\n",
      "===================================== 19 =====================================\u001b[0m\n",
      "{'nmod': 43, 'nsubj': 23, 'xcomp': 3, 'loss': 1, 'indicated': 2, 'advcl': 11, 'dobj': 30, 'effects': 1, 'capable': 1, 'conj': 12, 'dependent': 1, 'is': 1, 'activity': 1, 'hindrance': 1, 'lead': 1, 'serves': 1, 'exposing': 1, 'indicate': 2, 'ccomp': 14, 'demonstrated': 1, 'accumulates': 1, 'damage': 1, 'evaluated': 4, 'decrease': 1, 'species': 1, 'exist': 1, 'parataxis': 4, 'gene': 1, 'required': 1, 'diminished': 2, 'inflammation': 2, 'effective': 1, 'exhibited': 2, 'nsubjpass': 12, 'induce': 1, 'suggesting': 1, 'anchor': 1, 'generation': 1, 'biopsies': 1, 'Cytokines': 1, 'incidences': 1, 'effect': 2, 'alterations': 1, 'similar': 3, 'DPM>4POP': 3, 'Pregnancies': 1, 'believe': 2, 'cause': 1, 'growth': 1, 'impaired': 1, 'include': 1, 'exceed': 2, 'increases': 2, 'dep': 4, 'slowed': 1, 'related': 1, 'measure': 1, 'investigated': 2, 'female': 1, 'sensitive': 2, 'involved': 1, 'explore': 2, 'developed': 2, 'used': 1, 'detect': 1, 'alter': 2, 'observations': 1, 'component': 1, 'depleted': 1, 'vasorelaxation': 1, 'restored': 1, 'potential': 1, 'obesity': 1, 'identified': 1, 'reduced': 1, 'mechanism': 1, 'additive': 1, 'appos': 3, 'suggest': 2, 'suppresses': 1, 'followed': 1, 'mediated': 1, 'revealing': 1, 'acl': 2, 'stimuli': 1, 'releasing': 2, 'alcohol': 1, 'manner': 1, 'promote': 2, 'ethanol': 1, 'establish': 1, 'interacted': 1, 'those': 1, 'focuses': 3, 'acl:relcl': 2, 'product': 1, 'attr': 1, 'compared': 1, 'oxidation': 1, 'inhibit': 1, 'behavior': 1, 'rules': 2, 'mutagenesis': 1, 'find': 1, 'responses': 1, 'BACKGROUND': 1, 'suggested': 1, 'show': 1, 'formulations': 1, 'suppressed': 2, 'responsible': 1, 'citrate': 1, 'ability': 1, 'METHODS': 1, 'Acetaldehyde': 1, 'provide': 1, 'contribute': 1, 'stems': 1, 'showed': 1}\n",
      "\u001b[1m\n",
      "===================================== 20 =====================================\u001b[0m\n",
      "{'nmod': 83, 'nsubj': 43, 'determine': 1, 'cause': 3, 'peroxynitrite': 2, 'developed': 3, 'investigated': 3, 'reproduces': 1, 'report': 2, 'xcomp': 15, 'increased': 10, 'exposure': 1, 'has': 5, 'ccomp': 27, 'suggesting': 2, 'suppressed': 2, 'dobj': 33, 'examined': 2, 'suggest': 4, 'showed': 6, 'induces': 1, 'caused': 6, 'conj': 24, 'advcl': 23, 'property': 1, 'alleviate': 1, 'injury': 1, 'perturbation': 2, 'indicate': 4, 'expression': 1, 'site': 1, 'confirming': 1, 'mixture': 1, 'CONCLUSIONS': 2, 'involved': 1, 'nsubjpass': 23, 'linked': 1, 'define': 1, 'blocked': 4, 'ethanol': 1, 'administration': 1, 'extracted': 1, 'concluded': 1, 'produced': 5, 'lead': 3, 'inhibited': 4, 'induced': 5, 'acl:relcl': 6, 'M': 1, 'leading': 1, 'reduction': 1, 'corresponded': 1, 'level': 2, 'exposed': 2, 'explore': 2, 'known': 4, 'protected': 1, 'Exposure': 2, 'detect': 1, '5.2': 1, 'Patients': 1, 'demonstrated': 4, 'conclude': 3, 'improves': 1, 'dep': 11, 'D8': 2, 'responsive': 1, 'acl': 12, 'advmod': 4, 'model': 2, 'stimulated': 3, 'observed': 3, 'encoding': 1, 'detecting': 2, 'dihydrotestosterone': 1, 'effective': 1, 'importance': 1, 'adducts': 1, 'cholestasis': 1, 'involving': 5, 'protein': 1, 'weights': 1, 'effect': 1, 'increases': 1, 'treated': 2, 'treatment': 5, 'carvedilol': 2, 'levels': 2, 'need': 1, 'revealed': 1, 'determined': 1, 'designed': 1, 'hours': 2, 'implicated': 1, 'associated': 3, 'rats': 1, 'interactions': 2, 'binding': 2, 'production': 1, 'strategy': 2, 'years': 2, 'maximal': 1, 'reversed': 1, 'enhanced': 1, 'serum': 1, 'study': 1, 'substituted': 1, 'dose': 3, 'parataxis': 14, 'conditions': 1, 'glucocorticoids': 1, 'resulted': 4, 'abolished': 2, 'RES': 3, 'show': 2, 'regulation': 3, 'combination': 1, 'studies': 1, 'discovery': 1, 'effects': 2, 'ought': 2, 'lack': 2, 'Treatment': 3, 'inhibiting': 1, 'defect': 1, 'inhibit': 1, 'fed': 2, 'ether': 1, 'Using': 2, 'shown': 2, 'supported': 1, 'seem': 3, 'similar': 1, 'herbicides': 1, 'is': 1, 'resembles': 1, 'consistent': 1, 'leads': 2, 'compatible': 1, 'identification': 2, 'accompanied': 1, 'inducers': 2, 'amod': 1, 'reduced': 5, 'eliminated': 3, 'evaluated': 2, 'restored': 2, 'range': 2, 'signs': 1, 'role': 2, 'identified': 1, 'coincides': 1, 'mechanisms': 1, 'appos': 1, 'disease': 1, 'gavage': 1, 'found': 4, 'correlations': 1, 'PCDD': 1, 'act': 1, 'agents': 2, 'phosphatases': 1, 'sensitive': 1, 'destroy': 1, 'damage': 1, 'radioimmunoassay': 1, 'stimulates': 1, 'discern': 1, 'fell': 1, 'pronounced': 2, 'results': 1, 'drugs': 1, 'induce': 1, 'possibility': 1, 'binds': 1, 'were': 1, 'activities': 2, 'procarcinogens': 1, 'probes': 1, 'elicit': 1, 'NRTI': 1, 'failure': 1, 'toxicity': 1, 'used': 2, 'dehydrogenase': 1, 'cells': 2, 'contribute': 1, 'liver': 1, 'seems': 2, 'adduct': 1, 'processes': 1, 'generation': 1, 'triggers': 1, 'responsible': 1, 'studied': 1, 'inhibits': 1, 'that': 1, 'investigating': 2, 'require': 2, 'effector': 2, 'enhance': 2, 'attenuated': 1, 'suppression': 2, 'characterized': 2, 'evidence': 3, 'response': 2, 'risks': 1, 'abortion': 1, 'all': 1, 'Reports': 1, 'stress': 1, 'resulting': 1, 'regions': 1, 'begins': 1, 'cop': 1, 'carry': 2, 'rescued': 1, 'progress': 1, 'infusion': 1, 'applied': 1, 'MOA': 1, 'had': 1, 'reduce': 1, 'available': 1, 'fact': 1, 'exists': 1, 'interfere': 2, 'evidenced': 1, 'expansion': 1, 'rescues': 1, 'became': 1, 'increase': 1, 'promoted': 1, 'measurement': 1, 'exhibited': 1}\n",
      "\u001b[1m\n",
      "===================================== 21 =====================================\u001b[0m\n",
      "{'Neurotoxins': 1, 'conj': 9, 'dobj': 11, 'nmod': 21, 'ccomp': 9, 'inhibited': 6, 'advcl': 7, 'manner': 1, 'lead': 8, 'related': 1, 'blocked': 1, 'indicated': 1, 'nsubjpass': 4, 'suspected': 1, 'nsubj': 22, 'symptoms': 1, 'effective': 1, 'although': 1, 'based': 2, 'acl:relcl': 4, 'fecundity': 2, 'appos': 2, 'decline': 1, 'ranging': 1, 'parataxis': 5, 'suppress': 3, 'required': 1, 'studied': 2, 'acl': 4, 'application': 2, 'suggest': 1, 'dependent': 1, 'compromised': 1, 'mRNA': 1, 'nmod:npmod': 1, 'induced': 3, 'revealed': 1, 'prolonged': 1, 'underscore': 2, 'increased': 3, 'determined': 1, 'attenuated': 1, 'examined': 1, 'assessed': 1, 'Carbaryl': 1, 'relation': 1, '%': 1, 'involves': 2, 'investigated': 1, 'applied': 1, 'mediated': 1, 'demonstrated': 2, 'binds': 1, 'dep': 1, 'activation': 3, 'block': 2, 'associated': 1, 'evaluate': 1, 'return': 1, 'role': 1, 'photochemistry': 1, 'investigate': 1, 'exposure': 2, 'activity': 2, 'detectable': 1, 'breaks': 1, 'occurred': 1, 'indicating': 1, 'modulated': 2, 'mechanism': 1, 'has': 1, 'Groups': 1, 'problem': 1, 'trigger': 2, 'limit': 1, 'reduced': 1, 'inhibitors': 1, 'cocaine': 1, 'CONCLUSIONS': 1, 'results': 1, 'were': 1, 'production': 1, 'cause': 1}\n",
      "\u001b[1m\n",
      "===================================== 22 =====================================\u001b[0m\n",
      "{'effects': 4, 'depicted': 1, 'acl': 9, 'parataxis': 6, 'replicates': 1, 'produce': 1, 'nsubjpass': 11, 'tested': 1, 'inhibition': 1, 'nsubj': 29, 'demonstrate': 2, 'nmod': 64, 'pathogenesis': 1, 'neurotoxicity': 1, 'loss': 1, 'seems': 1, 'conj': 24, 'Taken': 1, 'finding': 1, 'xcomp': 10, 'treatment': 12, 'degenerating': 2, 'affected': 2, 'levels': 2, 'hyperphosphorylation': 1, 'shown': 3, 'suggested': 1, 'metals': 1, 'dep': 2, 'resulted': 1, 'advcl': 17, 'examined': 1, 'produced': 1, 'amod': 1, 'acl:relcl': 7, 'mRNA': 1, 'appos': 3, 'inhibitors': 2, 'cop': 1, 'dobj': 44, 'include': 2, 'Treatment': 1, 'teratogens': 1, 'reversed': 1, 'DBP': 1, 'responses': 2, 'morphants': 2, 'included': 1, 'order': 1, 'mediated': 3, 'induced': 4, 'have': 2, 'require': 2, 'agonists': 1, 'ccomp': 26, 'P': 1, 'induction': 1, 'fed': 2, 'reduced': 4, 'models': 2, 'affects': 1, 'lead': 1, 'concomitant': 1, 'patients': 1, 'interactions': 1, 'response': 1, 'chlorpromazine': 1, 'incubations': 1, 'others': 2, 'showed': 1, 'activated': 1, 'obtained': 1, 'drive': 1, 'enzymes': 1, 'reported': 1, 'drugs': 1, 'pups': 1, 'screening': 3, 'related': 2, 'csubj': 1, 'cause': 1, 'accelerated': 1, 'assessed': 3, 'women': 1, 'evaluate': 1, 'axis': 1, 'decrease': 1, 'Perchlorate': 1, 'investigates': 2, 'CONCLUSIONS': 4, 'create': 1, 'potential': 1, 'elongation': 1, 'show': 3, 'indicate': 2, 'considered': 1, 'decreasing': 1, 'fibrosis': 1, 'infiltration': 1, 'found': 2, 'APPROACH': 1, 'due': 2, 'vasodilatation': 1, 'inhibited': 3, 'dilated': 1, 'enhanced': 1, 'develop': 1, 'amounts': 1, 'secreted': 1, 'caused': 1, 'increase': 2, 'characterized': 1, 'attr': 1, 'blood': 1, 'resulting': 1, 'immunosuppressive': 1, 'compared': 2, 'regimens': 1, 'advmod': 1, 'Pyrethrins': 1, 'increased': 1, 'discussed': 1, 'synthesis': 1, 'exposure': 1, 'clearance': 2, 'exposed': 4, 'described': 2, 'importance': 2, 'role': 2, 'elevated': 1, 'injection': 2, 'pathways': 1, 'nephrotoxicity': 1, 'stimulated': 1, 'mechanisms': 1, 'aimed': 1, 'constitutes': 1, 'protected': 1, 'cells': 1, 'associated': 2, 'participate': 1, 'cross': 1, 'degradation': 1, 'NSAIDs': 1, 'indicated': 1, 'Tamoxifen': 1, 'exhibited': 1, 'lesions': 2, 'group': 2, 'generated': 2, 'demonstrated': 3, 'risks': 3, 'arise': 1, 'required': 1, 'involved': 1, 'blocked': 1, 'example': 1, 'stimulates': 1, 'necrosis': 1, 'temperature': 1, 'greater': 1, 'was': 1, 'ability': 1, 'emerged': 1, 'form': 1, 'augmented': 1, 'evident': 2, 'altered': 1, 'fact': 1, 'used': 1, 'demonstrates': 1, 'implicated': 2, 'Alterations': 1, 'livers': 1, 'help': 1, 'Fzd2': 1, 'support': 1, 'RESULTS': 2, 'depletion': 1, 'effect': 1, 'cell': 1, 'OPs': 1, 'reactivated': 1, 'induce': 1}\n",
      "\u001b[1m\n",
      "===================================== 23 =====================================\u001b[0m\n",
      "{'examine': 1, 'nsubj': 9, 'unaffected': 1, 'have': 1, 'nmod': 15, 'acl': 2, 'stress': 1, 'combination': 1, 'dobj': 15, 'transfected': 1, 'ccomp': 7, 'factor': 1, 'cause': 1, 'examined': 3, 'accumulation': 2, 'lead': 1, 'reference': 1, 'affects': 1, 'resulted': 1, 'compared': 2, 'conj': 8, 'Wy-14': 1, 'reduced': 2, 'pretreatment': 1, 'evaluated': 2, 'dep': 5, 'xcomp': 6, 'nsubjpass': 5, 'parataxis': 1, 'advcl': 1, 'demonstrated': 2, 'expression': 1, 'failure': 4, 'explored': 1, 'administered': 1, 'include': 3, 'doses': 2, 'Dieldrin': 1, 'suggesting': 1, 'found': 2, 'inhibited': 1, 'acetylcholine': 1, 'result': 1, 'measured': 1, 'highest': 1, '%': 1, 'suggested': 1, 'decreased': 1, 'conclude': 1, 'internalized': 1, 'caused': 3, 'chemical': 1, 'resulting': 1, 'mode': 1, 'aid': 1, 'MOA': 2, 'substances': 1, 'exposed': 1, 'rats': 1, 'overstimulation': 2, 'acl:relcl': 1, 'suggest': 1, 'prevent': 1}\n",
      "\u001b[1m\n",
      "===================================== 24 =====================================\u001b[0m\n",
      "{'nsubjpass': 6, 'nmod': 46, 'acl': 11, 'ccomp': 22, 'nsubj': 19, 'stimulated': 1, 'c.': 1, 'appos': 3, 'production': 3, 'dobj': 20, 'seems': 1, 'suggest': 1, 'advcl': 20, 'patterns': 1, 'xcomp': 7, 'mediated': 1, 'inhibited': 2, 'treated': 5, 'conj': 16, 'changes': 1, 'metals': 1, 'dep': 10, 'review': 2, 'provide': 2, 'exposed': 1, 'increased': 7, 'cop': 1, 'evaluated': 1, 'used': 3, 'attributed': 1, 'indicated': 1, 'reduced': 1, 'inhibit': 1, 'suggests': 1, 'demonstrated': 2, 'phenotype': 1, 'induced': 4, '%': 1, 'gradient': 1, 'pathologies': 1, 'parataxis': 8, 'found': 4, 'persists': 1, 'ovaries': 4, 'bromopropylate': 1, 'effective': 1, 'using': 1, 'cytotoxic': 1, 'required': 1, 'those': 1, 'caused': 5, 'examined': 2, 'tested': 1, 'exposure': 1, 'returned': 1, 'CONCLUSIONS': 2, 'reversed': 1, 'uptake': 1, 'doses': 1, 'effects': 1, 'showed': 2, 'identify': 1, 'symptoms': 1, 'is': 2, 'leads': 1, 'hepatocytes': 1, 'characterized': 1, 'examine': 1, 'depolymerization': 1, 'associated': 2, 'epithelium': 1, 'Reserpine': 1, 'tachycardia': 1, 'enzymes': 1, 'potentiated': 1, 'express': 2, 'assessed': 2, 'induction': 1, 'genes': 1, 'Mice': 1, 'provided': 1, 'contaminants': 1, 'None': 1, 'concentration': 1, 'explain': 1, 'suggested': 1, 'was': 1, 'respectively': 1, 'drugs': 1, 'inhibitors': 1, 'shown': 1, 'antagonist': 1, 'synthesis': 1, 'indicate': 1, 'RESULTS': 1, 'followed': 1, 'channels': 1, 'implicated': 1, 'greater': 1, 'exhibited': 2, 'days': 1, 'neurotransmitters': 4, 'patients': 1, 'confirmed': 1, 'described': 1, 'grown': 1, 'assays': 1, 'retarded': 1, 'resulted': 1, 'paralleled': 2, 'generating': 2, 'stimulates': 2, 'strains': 2, 'assayed': 2, 'suppresses': 2, 'agents': 1, 'localized': 2, 'nitrofen': 1, 'reprogramming': 1, 'enhanced': 1, 'plays': 1, 'detected': 1, 'appears': 1, 'encompasses': 1, 'urothelium': 1, 'induces': 1, 'identified': 1, 'agent': 1, 'fails': 1, 'complex': 1, 'significant': 1, 'reinitiated': 1, 'extends': 2, 'responsible': 1, 'blocked': 2, 'elevating': 1, 'agreement': 1, 'vimentin': 1, 'antibody': 1, 'results': 1, 'generation': 1, 'whilst': 1, 'acl:relcl': 1, 'known': 1, 'Administration': 1, 'investigated': 1, 'important': 1}\n",
      "\u001b[1m\n",
      "===================================== 25 =====================================\u001b[0m\n",
      "{'Neurotoxins': 1, 'ccomp': 22, 'report': 1, 'dep': 5, 'parataxis': 10, 'death': 1, 'demonstrating': 2, 'involvement': 1, 'mechanism': 1, 'dobj': 31, 'advcl': 10, 'dehydrogenase': 1, 'caused': 3, 'nmod': 38, 'cultures': 1, 'observed': 2, 'conj': 18, 'treatment': 4, 'receptors': 1, 'Inhibiting': 1, 'greater': 1, 'treatments': 1, 'susceptible': 1, 'had': 3, 'nsubj': 26, 'lead': 1, 'determined': 1, 'indicated': 1, 'effects': 5, 'revealed': 1, 'include': 2, 'mediator': 1, 'started': 1, 'impairs': 1, 'abnormalities': 1, 'received': 2, 'reduced': 2, 'study': 1, 'evident': 3, 'expressed': 2, 'treat': 1, 'acl': 12, 'identify': 1, 'compounds': 1, 'increased': 2, 'increase': 1, 'number': 1, 'rats': 2, 'role': 2, 'compares': 2, 'generating': 1, 'showed': 3, 'believed': 1, 'xcomp': 7, 'raised': 1, 'biopsies': 1, 'derived': 1, 'nsubjpass': 7, 'levels': 1, 'concentrations': 2, 'diet': 1, 'acl:relcl': 2, 'accelerated': 1, 'mutation': 1, 'exceed': 2, 'lack': 1, 'thought': 2, 'evoked': 2, 'discussed': 1, 'present': 1, 'days': 2, 'possessed': 1, 'suppressed': 2, 'indicate': 2, 'examined': 1, 'induction': 1, 'induces': 1, 'influence': 1, 'conclude': 1, 'toxicity': 1, 'PCBs': 1, 'characterized': 1, 'pronounced': 1, 'suggest': 1, 'measured': 1, 'evaluated': 1, 'conduct': 1, 'cascade': 1, 'formation': 1, 'obtained': 1, 'ischemia': 1, 'appos': 1, 'remains': 1, 'protection': 1, 'flavonoids': 1, 'decrease': 1, 'investigated': 2, 'potent': 1, 'reveal': 1, 'required': 1, 'staining': 1, 'chemicals': 2, 'comparing': 1, 'elicit': 1, 'findings': 1, 'linked': 1, 'promoted': 2, 'approved': 1, 'concept': 1, 'illustrate': 1, 'Exposure': 1, 'attributed': 2, 'opposite': 2, 'observation': 2, 'apoptosis': 2, 'mediates': 2, 'likely': 2, 'produces': 2, 'CONTEXT': 1, 'RESULTS': 1, 'contribute': 1, 'attenuated': 1, 'loop': 1, 'blocked': 1, 'abolished': 1, 'results': 1, 'found': 1, 'embryos': 1, 'fails': 1, 'Treatment': 2, 'collected': 1, 'situations': 1, 'bind': 2, 'increases': 1, 'injection': 1, 'smoke': 1, 'one': 2, 'hypothesis': 1, 'changed': 1, 'Maneb': 1, 'providing': 1, 'relevance': 1, 'causes': 1}\n",
      "\u001b[1m\n",
      "===================================== 26 =====================================\u001b[0m\n",
      "{'nmod': 34, 'nsubj': 18, 'administration': 3, 'ccomp': 19, 'advcl': 10, 'reduce': 1, 'found': 4, 'Patients': 1, 'indicate': 1, 'dobj': 17, 'fibrates': 1, 'channels': 1, 'investigated': 5, 'deduce': 1, 'involved': 1, 'dep': 9, 'representing': 1, 'include': 2, 'DPP': 1, 'conj': 20, 'produced': 10, 'expression': 3, 'results': 2, 'reversed': 5, 'plays': 1, 'treatment': 1, 'determine': 1, 'evaluated': 3, 'acl:relcl': 5, 'concentrations': 2, 'understand': 2, 'hydroxylation': 1, 'progression': 2, 'develop': 2, 'concept': 1, 'regardless': 1, 'examined': 1, 'assesses': 1, 'fed': 2, 'production': 2, 'overview': 1, 'tolerated': 1, 'level': 1, 'parataxis': 7, 'nsubjpass': 9, 'induced': 3, 'explanation': 1, 'agents': 1, 'xcomp': 4, 'reduced': 5, 'investigate': 1, 'activity': 2, 'acl': 3, 'diet': 1, 'similar': 5, 'neurotoxic': 1, 'genesis': 1, 'symporter': 1, 'combined': 1, 'consistent': 1, 'lack': 1, 'appos': 3, 'increasing': 1, 'enhanced': 2, 'suggesting': 2, 'increased': 2, 'demonstrated': 3, 'maintained': 1, 'administrated': 1, 'available': 2, 'Bromocriptine': 1, 'is': 1, 'revealed': 1, 'associated': 2, 'inhibited': 3, 'effect': 2, 'epithelium': 1, 'response': 1, 'overproduction': 1, 'seems': 1, 'uncoupling': 1, 'report': 2, 'cytotoxicity': 1, 'mechanisms': 2, 'differentiated': 2, 'lesions': 1, 'relates': 1, 'spectrum': 1, 'had': 1, 'resulted': 1, 'failed': 1, 'explored': 1, 'exposed': 2, 'inhibit': 1, 'metabolism': 1, 'injury': 1, 'chlorzoxazone': 1, 'underlies': 2, 'determined': 1, 'undergo': 1, 'dysfunction': 1, 'metabolized': 1, 'testing': 2, 'approved': 1, 'causes': 1, 'conducted': 1, 'studied': 1, 'different': 1, 'impact': 1, 'suggested': 1, 'defects': 1, 'toxicity': 2, 'bind': 2, 'caused': 1, 'downregulated': 1, 'producing': 1, 'observed': 1, 'amod': 1, 'maneb': 1, 'changes': 1, 'reported': 1, 'hypothesized': 1, 'Stimulation': 1}\n",
      "\u001b[1m\n",
      "===================================== 27 =====================================\u001b[0m\n",
      "{'improved': 2, 'aux': 1, 'nmod': 84, 'provide': 1, 'decreased': 2, 'acl:relcl': 10, 'death': 1, 'protect': 1, 'ccomp': 24, 'advcl': 24, 'decrease': 1, 'parkinsonism': 2, 'RESULTS': 1, 'dobj': 46, 'nsubj': 56, 'acl': 14, 'opening': 1, 'parataxis': 10, 'ingested': 1, 'banned': 1, 'nsubjpass': 14, 'describe': 2, 'suggested': 1, 'APV': 1, 'caused': 2, 'xcomp': 20, 'higher': 1, 'differences': 1, 'show': 4, 'conj': 33, 'period': 1, 'levels': 3, 'plays': 1, 'rise': 2, 'generate': 1, 'include': 1, 'investigated': 1, 'dep': 5, 'increased': 11, 'Administration': 1, 'shown': 3, 'effects': 1, 'contaminant': 2, 'method': 1, 'showed': 2, 'increase': 2, 'abnormalities': 2, 'reduced': 8, 'Similar': 1, 'disorder': 1, 'bound': 2, 'Prochloraz': 1, 'changes': 1, 'age': 1, 'Pretreatment': 4, 'A': 1, 'proposed': 1, 'similar': 2, 'have': 1, 'using': 2, 'measured': 1, 'inhibition': 1, 'analyzed': 2, 'induced': 5, 'resulted': 4, 'effect': 1, 'leads': 1, 'prevent': 1, 'dose': 1, 'observed': 5, 'developed': 3, 'known': 1, 'enhance': 1, 'presence': 3, 'data': 2, 'forms': 1, 'investigate': 1, 'had': 10, 'correlation': 2, 'disturb': 1, 'induces': 1, 'neurotoxic': 1, 'used': 1, 'view': 1, 'assessed': 1, 'amod': 1, 'KT5720': 1, 'covariates': 1, 'decreases': 2, 'measuring': 2, 'symporter': 1, 'initiated': 1, 'fed': 1, 'steatosis': 1, 'found': 4, 'demonstrates': 1, 'studies': 1, 'greater': 1, 'ethoxy-': 1, 'combinations': 1, 'compatible': 1, 'compounds': 2, 'began': 1, 'injury': 2, 'observations': 1, 'formation': 1, 'reorganization': 2, 'HUVECs': 1, 'express': 1, 'normalized': 1, 'demonstrated': 1, 'treated': 1, 'inhibit': 2, 'reproduced': 1, 'metabolize': 1, 'competed': 1, 'causing': 1, 'spectrum': 1, 'label': 1, 'injection': 1, 'represents': 1, 'correlated': 2, 'inhibited': 4, 'confirm': 1, 'suppress': 1, 'suggesting': 2, 'appos': 1, 'proved': 1, 'regimens': 1, 'considered': 1, 'Using': 1, 'findings': 1, 'distinguished': 1, 'antagonized': 1, 'synthesis': 1, 'Treatment': 4, 'insights': 1, 'provided': 1, '=': 2, 'agonists': 1, 'depend': 2, 'involved': 1, 'tended': 2, 'perform': 2, 'follows': 2, 'cytotoxicity': 3, 'regulated': 1, 'treatment': 2, 'induce': 1, 'binds': 1, 'conclude': 2, 'alleviated': 2, 'body': 1, 'phenotype': 1, 'displays': 2, 'activities': 1, 'alters': 1, 'documented': 1, 'responses': 1, 'hypothesis': 1, 'hypothesize': 1, 'offer': 1, 'indicating': 1, 'growth': 1, 'was': 2, 'development': 2, 'synergistic': 1, 'presented': 1, 'exhibited': 2, 'Pirfenidone': 1, 'expression': 3, 'executed': 2, 'resistance': 2, 'seen': 1, 'CONCLUSION': 1, 'sources': 1, 'CRITERIA': 1, 'unique': 1, 'damage': 1, 'underwent': 1, 'remain': 1, 'PURPOSE': 1, 'treating': 2, 'retina': 1, 'important': 1, 'conducted': 1, 'studied': 1, 'upregulates': 1, 'enhanced': 1, 'prevented': 1, 'associated': 1, 'initiates': 1, 'action': 2, 'AIMS': 1, 'aid': 1, 'concentrations': 1, 'skews': 1, 'enter': 1, 'able': 1, 'endpoint': 1, 'extends': 2, 'fails': 2, 'placed': 1, 'evidence': 1, 'incubation': 1, 'METHODS': 1, 'engineered': 1, 'responsible': 1, 'defined': 1, 'postulated': 1, 'TGF': 1, 'region': 1, 'pattern': 1, 'depressed': 1, 'disease': 1, 'change': 1, 'humans': 1}\n",
      "\u001b[1m\n",
      "===================================== 28 =====================================\u001b[0m\n",
      "{'determine': 1, 'derivatives': 2, 'nmod': 42, 'dobj': 31, 'dep': 7, 'potential': 1, 'xcomp': 7, 'deprenyl': 1, 'advcl': 12, 'show': 1, 'demonstrating': 2, 'increase': 3, 'added': 1, 'induce': 2, 'contributes': 1, 'pathway': 1, 'mediated': 3, 'uncertain': 1, 'evidence': 2, 'nsubj': 22, 'conj': 8, 'exhibited': 1, 'ccomp': 16, 'induced': 2, 'tested': 1, 'decrease': 1, 'studies': 3, 'uptake': 1, 'suggests': 1, 'DPP': 3, 'analyzing': 2, 'attenuated': 2, 'metabolism': 3, 'Studies': 1, 'CYP1A': 2, 'nsubjpass': 9, 'conjunction': 1, 'disorder': 1, 'increases': 1, 'include': 5, 'revealed': 2, 'parataxis': 5, 'suggest': 3, 'indicated': 2, 'effects': 3, 'seen': 2, 'treatment': 1, 'involved': 1, 'Proteins': 1, 'induction': 1, 'agents': 1, 'acl': 2, 'support': 1, 'injection': 1, 'chemicals': 3, 'produced': 1, 'impairs': 1, 'acl:relcl': 4, 'undertook': 1, 'triclosan': 1, 'present': 1, 'enhancement': 1, 'characterized': 1, 'amitrole': 3, 'production': 1, 'received': 1, 'treatments': 2, 'mice': 1, 'accompanied': 1, 'depletion': 1, 'regulate': 1, 'differences': 1, 'coupling': 1, 'basis': 1, 'showed': 1, 'relation': 1, 'hypothesized': 1, 'exposed': 1, 'brains': 1, 'inhibit': 1, 'prep': 1, 'led': 1, 'found': 1, 'increased': 1, 'stimulate': 1, 'lead': 1, 'length': 3, 'compared': 1, 'demonstrate': 1, 'exposure': 1, 'factors': 1, 'development': 1, 'suggesting': 1, 'cells': 1, 'undergo': 1, 'abolished': 1, 'measured': 1, 'LC-1': 2, 'presented': 2, 'antioxidants': 1, 'inhibited': 6, 'pigmentation': 1, 'potent': 2, 'attr': 2, 'known': 1, 'indicating': 1, 'retinol': 1, 'play': 1, 'explore': 1, 'formation': 1, 'source': 1, 'environment': 1, 'express': 1, 'amod': 1, 'promotes': 2, 'examines': 1, 'performed': 2, 'associated': 1, 'lost': 1, 'propose': 1, 'Mice': 1, 'suggested': 1, 'reversed': 2, 'find': 1, 'starting': 1, 'efficacious': 1, 'neuropathy': 1}\n",
      "\u001b[1m\n",
      "===================================== 29 =====================================\u001b[0m\n",
      "{'mediated': 2, 'damage': 2, 'employed': 1, 'nsubjpass': 10, 'xcomp': 8, 'ccomp': 13, 'effects': 1, 'increase': 1, 'advcl': 10, 'thyroxine': 1, 'nmod': 35, 'dobj': 22, 'frequency': 1, 'mice': 1, 'died': 2, 'addition': 1, 'decrease': 1, 'appos': 3, 'acl:relcl': 6, 'caused': 2, 'resembles': 1, 'conj': 12, 'concentration': 1, 'included': 1, 'selected': 2, 'nsubj': 18, 'effect': 1, 'examined': 2, 'resilient': 1, 'known': 2, 'parataxis': 4, 'levels': 1, 'duration': 2, 'accumulated': 1, 'objective': 1, 'interfere': 2, 'implicated': 1, 'had': 2, 'association': 1, 'indicated': 1, 'dep': 3, 'indicate': 4, 'accompanied': 2, 'test': 2, 'summarize': 1, 'sensitive': 2, 'exposure': 1, 'received': 1, 'involves': 5, 'Taken': 1, 'supported': 1, 'members': 1, 'family': 1, 'underwent': 1, 'occurs': 1, 'radicals': 1, 'restored': 1, 'shown': 2, 'improvements': 1, 'associated': 2, 'approach': 1, 'cause': 1, 'upregulated': 1, 'decreased': 1, 'rats': 2, 'reduced': 4, 'suggested': 2, 'report': 1, 'considered': 1, 'analogs': 1, 'reduction': 1, 'inhibit': 2, 'mechanism': 1, 'investigate': 1, 'explored': 1, 'assessed': 1, 'suppresses': 1, 'detections': 1, 'treatment': 1, 'model': 1, 'presence': 1, 'cytotoxicity': 2, 'demonstrate': 4, 'patients': 1, 'metabolism': 2, 'affect': 2, 'reported': 1, 'cultures': 2, 'use': 2, 'determine': 2, 'detectable': 1, 'size': 1, 'induced': 1, 'develop': 1, 'suggest': 2, 'fed': 1, 'intact': 1, 'remained': 1, 'inhibited': 1, 'incidences': 1, 'changes': 1, 'remain': 1, 'comprising': 1, 'reveal': 1, 'found': 1, 'given': 1, 'excess': 1, 'decaying': 1, 'develops': 1, 'vehicle': 1, 'resulted': 1, 'produced': 1, 'results': 1, 'acl': 1, 'exhibit': 2, 'causes': 1}\n"
     ]
    }
   ],
   "source": [
    "for key in cluster_data.keys():\n",
    "    msg.divider(str(key))\n",
    "\n",
    "    # for i in cluster_data[key]['entity_pair']: print(i)\n",
    "\n",
    "    closest_common_ancestors = {}\n",
    "    for i in cluster_data[key]['dep_paths']:\n",
    "        closest_common_ancestors[i[len(i)//2]] = closest_common_ancestors.get(i[len(i)//2], 0) + 1\n",
    "\n",
    "    list(closest_common_ancestors.values()).sort()\n",
    "    \n"
   ]
  },
  {
   "cell_type": "code",
   "execution_count": null,
   "id": "06ae56be-09fb-41ab-8f1c-5d8a1d8f2fd1",
   "metadata": {},
   "outputs": [],
   "source": []
  }
 ],
 "metadata": {
  "kernelspec": {
   "display_name": "Python 3 (ipykernel)",
   "language": "python",
   "name": "python3"
  },
  "language_info": {
   "codemirror_mode": {
    "name": "ipython",
    "version": 3
   },
   "file_extension": ".py",
   "mimetype": "text/x-python",
   "name": "python",
   "nbconvert_exporter": "python",
   "pygments_lexer": "ipython3",
   "version": "3.10.9"
  }
 },
 "nbformat": 4,
 "nbformat_minor": 5
}
